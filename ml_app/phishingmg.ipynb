{
 "cells": [
  {
   "cell_type": "code",
   "execution_count": 2,
   "metadata": {},
   "outputs": [],
   "source": [
    "import pandas as pd\n",
    "import urllib.request,sys,re\n",
    "from nltk.corpus import stopwords\n",
    "from sklearn.model_selection import train_test_split\n",
    "from sklearn.metrics import accuracy_score, precision_score, recall_score, f1_score\n",
    "from sklearn.naive_bayes import MultinomialNB,GaussianNB,ComplementNB,BernoulliNB\n",
    "from sklearn.linear_model import LogisticRegression\n",
    "from sklearn.ensemble import RandomForestClassifier\n",
    "from sklearn.metrics import classification_report, confusion_matrix\n",
    "# %load '~/Google Drive/MyDrive/featureExtractionPhish.py'\n",
    "import featureExtractionPhish\n",
    "import xml.etree.ElementTree as ET\n",
    "import numpy as np"
   ]
  },
  {
   "cell_type": "code",
   "execution_count": 3,
   "metadata": {},
   "outputs": [],
   "source": [
    "df=pd.read_csv('PhishingDataSet.csv')"
   ]
  },
  {
   "cell_type": "code",
   "execution_count": 4,
   "metadata": {},
   "outputs": [],
   "source": [
    "df = df.dropna(how='any',axis=0)"
   ]
  },
  {
   "cell_type": "code",
   "execution_count": 5,
   "metadata": {},
   "outputs": [],
   "source": [
    "X=df.drop(['Result'],axis=1)\n",
    "y=df['Result']\n"
   ]
  },
  {
   "cell_type": "code",
   "execution_count": 6,
   "metadata": {},
   "outputs": [],
   "source": [
    "X_train, X_test, Y_train, Y_test = train_test_split(X, y, test_size = 0.2)\n",
    "\n"
   ]
  },
  {
   "cell_type": "code",
   "execution_count": 7,
   "metadata": {},
   "outputs": [],
   "source": [
    "import pickle\n",
    "def save(classifier,name):\n",
    "    '''\n",
    "    save classifier to disk\n",
    "    '''\n",
    "    n = name+\".pkl\"\n",
    "    with open(n, 'wb') as file:\n",
    "        pickle.dump(classifier, file)"
   ]
  },
  {
   "cell_type": "code",
   "execution_count": 8,
   "metadata": {},
   "outputs": [],
   "source": [
    "def load(name):\n",
    "    '''\n",
    "    load classifier from disk\n",
    "    '''\n",
    "    with open(name, 'rb') as file:\n",
    "      classifier = pickle.load(file)\n",
    "    return classifier"
   ]
  },
  {
   "cell_type": "code",
   "execution_count": 9,
   "metadata": {},
   "outputs": [
    {
     "name": "stdout",
     "output_type": "stream",
     "text": [
      "Perform Sample Tests...\n",
      "===============================================================\n",
      "Decisison Tree\n",
      "===============================================================\n"
     ]
    }
   ],
   "source": [
    "print(\"Perform Sample Tests...\")\n",
    "print(\"===============================================================\")\n",
    "print(\"Decisison Tree\")\n",
    "print(\"===============================================================\")"
   ]
  },
  {
   "cell_type": "code",
   "execution_count": 10,
   "metadata": {},
   "outputs": [
    {
     "name": "stdout",
     "output_type": "stream",
     "text": [
      "DT - Accuracy: 0.9656264133876075\n"
     ]
    }
   ],
   "source": [
    "from sklearn import tree\n",
    "classifierDT = tree.DecisionTreeClassifier()\n",
    "classifierDT = classifierDT.fit(X_train, Y_train)\n",
    "pred_dt = classifierDT.predict(X_test)\n",
    "accuracyDectr = accuracy_score(Y_test,pred_dt)\n",
    "print(\"DT - Accuracy:\",accuracyDectr)"
   ]
  },
  {
   "cell_type": "code",
   "execution_count": 14,
   "metadata": {},
   "outputs": [],
   "source": [
    "save(classifierDT,\"PhishingDTModel\")\n",
    "classiferDTsaved = load(\"PhishingDTModel.pkl\")"
   ]
  },
  {
   "cell_type": "code",
   "execution_count": 31,
   "metadata": {},
   "outputs": [],
   "source": [
    "url=\"https://dribbble.com/session/new\"\n",
    "X_input = url\n",
    "#print(\"Url op1 : \"+str(X_input))\n",
    "X_new=featureExtractionPhish.generate_data_set(X_input)\n",
    "X_new = np.array(X_new).reshape(1,-1)"
   ]
  },
  {
   "cell_type": "code",
   "execution_count": 20,
   "metadata": {},
   "outputs": [
    {
     "name": "stdout",
     "output_type": "stream",
     "text": [
      "prediction op : [1]\n",
      "Legitimate Url\n"
     ]
    },
    {
     "name": "stderr",
     "output_type": "stream",
     "text": [
      "/home/anju/.local/lib/python3.10/site-packages/sklearn/base.py:409: UserWarning: X does not have valid feature names, but DecisionTreeClassifier was fitted with feature names\n",
      "  warnings.warn(\n"
     ]
    }
   ],
   "source": [
    "predictionDT = classiferDTsaved.predict(X_new)\n",
    "print(\"prediction op : \"+str(predictionDT))\n",
    "if predictionDT == -1:\n",
    "    print(\"Phishing Url\")\n",
    "else:\n",
    "    print(\"Legitimate Url\")"
   ]
  },
  {
   "cell_type": "code",
   "execution_count": 21,
   "metadata": {},
   "outputs": [
    {
     "name": "stdout",
     "output_type": "stream",
     "text": [
      "Perform Sample Tests...\n",
      "===============================================================\n",
      "Logistic Regression\n",
      "===============================================================\n"
     ]
    }
   ],
   "source": [
    "print(\"Perform Sample Tests...\")\n",
    "print(\"===============================================================\")\n",
    "print(\"Logistic Regression\")\n",
    "print(\"===============================================================\")"
   ]
  },
  {
   "cell_type": "code",
   "execution_count": 22,
   "metadata": {},
   "outputs": [
    {
     "name": "stdout",
     "output_type": "stream",
     "text": [
      "LR - Accuracy: 0.932157394843962\n"
     ]
    }
   ],
   "source": [
    "classifierLR = LogisticRegression(solver='liblinear',C=10.0, random_state=0)\n",
    "classifierLR = classifierLR.fit(X_train, Y_train)\n",
    "predt_LR=classifierLR.predict(X_test)\n",
    "accuracyLR = accuracy_score(Y_test,predt_LR)\n",
    "print(\"LR - Accuracy:\",accuracyLR)\n",
    "save(classifierLR,\"PhishingLRModel\")\n",
    "classiferLRsaved = load(\"PhishingLRModel.pkl\") "
   ]
  },
  {
   "cell_type": "code",
   "execution_count": 23,
   "metadata": {},
   "outputs": [],
   "source": [
    "url=\"https://dribbble.com/session/new\"\n",
    "X_input = url\n",
    "X_new=featureExtractionPhish.generate_data_set(X_input)\n",
    "X_new = np.array(X_new).reshape(1,-1)"
   ]
  },
  {
   "cell_type": "code",
   "execution_count": 24,
   "metadata": {},
   "outputs": [
    {
     "name": "stdout",
     "output_type": "stream",
     "text": [
      "prediction op : [1]\n",
      "Legitimate Url\n"
     ]
    },
    {
     "name": "stderr",
     "output_type": "stream",
     "text": [
      "/home/anju/.local/lib/python3.10/site-packages/sklearn/base.py:409: UserWarning: X does not have valid feature names, but LogisticRegression was fitted with feature names\n",
      "  warnings.warn(\n"
     ]
    }
   ],
   "source": [
    "predictionLR = classiferLRsaved.predict(X_new)\n",
    "print(\"prediction op : \"+str(predictionLR))\n",
    "if predictionLR == -1:\n",
    "    print(\"Phishing Url\")\n",
    "else:\n",
    "    print(\"Legitimate Url\")"
   ]
  },
  {
   "cell_type": "code",
   "execution_count": 25,
   "metadata": {},
   "outputs": [
    {
     "name": "stdout",
     "output_type": "stream",
     "text": [
      "Perform Sample Tests...\n",
      "===============================================================\n",
      "Random Forest\n",
      "===============================================================\n"
     ]
    }
   ],
   "source": [
    "print(\"Perform Sample Tests...\")\n",
    "print(\"===============================================================\")\n",
    "print(\"Random Forest\")\n",
    "print(\"===============================================================\")\n"
   ]
  },
  {
   "cell_type": "code",
   "execution_count": 26,
   "metadata": {},
   "outputs": [
    {
     "name": "stdout",
     "output_type": "stream",
     "text": [
      "RF - Accuracy: 0.9733152419719584\n"
     ]
    }
   ],
   "source": [
    "modelRF = RandomForestClassifier()\n",
    "modelRF = modelRF.fit(X_train, Y_train)\n",
    "predt_RF = modelRF.predict(X_test)\n",
    "accuracyRF = accuracy_score(Y_test,predt_RF)\n",
    "print(\"RF - Accuracy:\",accuracyRF)\n",
    "save(modelRF,\"PhishingRFModel\")\n",
    "classiferRFsaved = load(\"PhishingRFModel.pkl\")"
   ]
  },
  {
   "cell_type": "code",
   "execution_count": 30,
   "metadata": {},
   "outputs": [],
   "source": [
    "url=\"https://dribbble.com/session/new\"\n",
    "X_input = url\n",
    "X_new=featureExtractionPhish.generate_data_set(X_input)\n",
    "X_new = np.array(X_new).reshape(1,-1)\n"
   ]
  },
  {
   "cell_type": "code",
   "execution_count": 28,
   "metadata": {},
   "outputs": [
    {
     "name": "stdout",
     "output_type": "stream",
     "text": [
      "prediction op : [1]\n",
      "Legitimate Url\n"
     ]
    },
    {
     "name": "stderr",
     "output_type": "stream",
     "text": [
      "/home/anju/.local/lib/python3.10/site-packages/sklearn/base.py:409: UserWarning: X does not have valid feature names, but RandomForestClassifier was fitted with feature names\n",
      "  warnings.warn(\n"
     ]
    }
   ],
   "source": [
    "predictionRF = classiferRFsaved.predict(X_new)\n",
    "print(\"prediction op : \"+str(predictionRF))\n",
    "if predictionRF == -1:\n",
    "    print(\"Phishing Url\")\n",
    "else:\n",
    "    print(\"Legitimate Url\")"
   ]
  }
 ],
 "metadata": {
  "kernelspec": {
   "display_name": "Python 3",
   "language": "python",
   "name": "python3"
  },
  "language_info": {
   "codemirror_mode": {
    "name": "ipython",
    "version": 3
   },
   "file_extension": ".py",
   "mimetype": "text/x-python",
   "name": "python",
   "nbconvert_exporter": "python",
   "pygments_lexer": "ipython3",
   "version": "3.10.6 (main, Nov 14 2022, 16:10:14) [GCC 11.3.0]"
  },
  "orig_nbformat": 4,
  "vscode": {
   "interpreter": {
    "hash": "916dbcbb3f70747c44a77c7bcd40155683ae19c65e1c03b4aa3499c5328201f1"
   }
  }
 },
 "nbformat": 4,
 "nbformat_minor": 2
}
