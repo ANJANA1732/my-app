{
 "cells": [
  {
   "cell_type": "code",
   "execution_count": 1,
   "metadata": {},
   "outputs": [],
   "source": [
    "import sys\n",
    "from phishing import *\n",
    "import requests"
   ]
  },
  {
   "cell_type": "code",
   "execution_count": 2,
   "metadata": {},
   "outputs": [],
   "source": [
    "class test:\n",
    "    def __init__(self,data):\n",
    "        self.url=data\n",
    "        self.output=\"\"\n",
    "\n",
    "    def callPhishing(self):\n",
    "        objphishing=phishing(self.url)\n",
    "        objphishing.resultRandomForest()\n",
    "        objphishing.resultDecisionTree()\n",
    "        objphishing.resultLogisticRegression()\n",
    "        return objphishing.result()"
   ]
  },
  {
   "cell_type": "code",
   "execution_count": 3,
   "metadata": {},
   "outputs": [
    {
     "name": "stderr",
     "output_type": "stream",
     "text": [
      "/home/anju/.local/lib/python3.10/site-packages/sklearn/base.py:409: UserWarning: X does not have valid feature names, but RandomForestClassifier was fitted with feature names\n",
      "  warnings.warn(\n",
      "/home/anju/.local/lib/python3.10/site-packages/sklearn/base.py:409: UserWarning: X does not have valid feature names, but DecisionTreeClassifier was fitted with feature names\n",
      "  warnings.warn(\n"
     ]
    },
    {
     "name": "stdout",
     "output_type": "stream",
     "text": [
      "Vulnerable to Phishing\n"
     ]
    },
    {
     "name": "stderr",
     "output_type": "stream",
     "text": [
      "/home/anju/.local/lib/python3.10/site-packages/sklearn/base.py:409: UserWarning: X does not have valid feature names, but LogisticRegression was fitted with feature names\n",
      "  warnings.warn(\n"
     ]
    }
   ],
   "source": [
    "def main():\n",
    "    mainVal=0\n",
    "    url=str(sys.argv[1])\n",
    "    urlD = requests.utils.unquote(url)\n",
    "    objTest = test(urlD)\n",
    "  \n",
    "    if objTest.callPhishing()==\"Phishing\":\n",
    "        mainVal=mainVal+10\n",
    "\n",
    "    if mainVal==0:\n",
    "        print(\"Secure!\")\n",
    "    elif mainVal==10:\n",
    "        print(\"Vulnerable to Phishing\")\n",
    "    elif mainVal==11:\n",
    "        print(\"Vulnerable  Phishing\")\n",
    "    elif mainVal==12:\n",
    "        print(\"Vulnerable  Phishing\")\n",
    "    elif mainVal==13:\n",
    "        print(\"Vulnerable Phishing\")\n",
    "    elif mainVal==15:\n",
    "        print(\"Vulnerable to C Phishing\")\n",
    "    elif mainVal==16:\n",
    "        print(\"Vulnerable to  Phishing\")\n",
    "    elif mainVal==17:\n",
    "        print(\"Vulnerable to  Phishing\")\n",
    "    elif mainVal==18:\n",
    "        print(\"Vulnerable to  Phishing\")\n",
    "    else:\n",
    "        print(\"Prediction failed\")\n",
    "\n",
    "if __name__ == \"__main__\":\n",
    "    main()"
   ]
  }
 ],
 "metadata": {
  "kernelspec": {
   "display_name": "Python 3",
   "language": "python",
   "name": "python3"
  },
  "language_info": {
   "codemirror_mode": {
    "name": "ipython",
    "version": 3
   },
   "file_extension": ".py",
   "mimetype": "text/x-python",
   "name": "python",
   "nbconvert_exporter": "python",
   "pygments_lexer": "ipython3",
   "version": "3.10.6"
  },
  "orig_nbformat": 4,
  "vscode": {
   "interpreter": {
    "hash": "916dbcbb3f70747c44a77c7bcd40155683ae19c65e1c03b4aa3499c5328201f1"
   }
  }
 },
 "nbformat": 4,
 "nbformat_minor": 2
}
