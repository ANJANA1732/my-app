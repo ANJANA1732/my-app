{
  "cells": [
    {
      "cell_type": "markdown",
      "metadata": {
        "id": "view-in-github",
        "colab_type": "text"
      },
      "source": [
        "<a href=\"https://colab.research.google.com/github/ANJANA1732/my-app/blob/master/webscraping1.ipynb\" target=\"_parent\"><img src=\"https://colab.research.google.com/assets/colab-badge.svg\" alt=\"Open In Colab\"/></a>"
      ]
    },
    {
      "cell_type": "code",
      "execution_count": 987,
      "metadata": {
        "id": "cjNxBVlGNYQl"
      },
      "outputs": [],
      "source": [
        "!pip install requests --upgrade --quiet"
      ]
    },
    {
      "cell_type": "code",
      "execution_count": 988,
      "metadata": {
        "id": "AN56QEkhEiFK"
      },
      "outputs": [],
      "source": [
        "import re"
      ]
    },
    {
      "cell_type": "code",
      "execution_count": 989,
      "metadata": {
        "id": "Nn34LCjZN4bA"
      },
      "outputs": [],
      "source": [
        "import requests"
      ]
    },
    {
      "cell_type": "code",
      "execution_count": 990,
      "metadata": {
        "id": "J7mUzvPwOBCX"
      },
      "outputs": [],
      "source": [
        "topic_url ='https://www.1mg.com/drugs-all-medicines?page=11&label=d'"
      ]
    },
    {
      "cell_type": "code",
      "execution_count": 991,
      "metadata": {
        "id": "Uq3OE6dtOTmP"
      },
      "outputs": [],
      "source": [
        "response = requests.get(topic_url)"
      ]
    },
    {
      "cell_type": "markdown",
      "metadata": {
        "id": "GBp5RUuy-dJP"
      },
      "source": []
    },
    {
      "cell_type": "code",
      "execution_count": 992,
      "metadata": {
        "colab": {
          "base_uri": "https://localhost:8080/"
        },
        "id": "qCWzXb4pPMNy",
        "outputId": "5fea3724-341a-4dab-852e-00eda71e4ce5"
      },
      "outputs": [
        {
          "output_type": "execute_result",
          "data": {
            "text/plain": [
              "200"
            ]
          },
          "metadata": {},
          "execution_count": 992
        }
      ],
      "source": [
        "response.status_code"
      ]
    },
    {
      "cell_type": "code",
      "execution_count": 993,
      "metadata": {
        "colab": {
          "base_uri": "https://localhost:8080/"
        },
        "id": "fHcr5t63PnqE",
        "outputId": "ca4a6ab4-4f41-44c5-d134-318e0672dcfd"
      },
      "outputs": [
        {
          "output_type": "execute_result",
          "data": {
            "text/plain": [
              "262855"
            ]
          },
          "metadata": {},
          "execution_count": 993
        }
      ],
      "source": [
        "len(response.text)"
      ]
    },
    {
      "cell_type": "code",
      "execution_count": 994,
      "metadata": {
        "id": "wNAMq3pmP1K7"
      },
      "outputs": [],
      "source": [
        "pc = response.text"
      ]
    },
    {
      "cell_type": "code",
      "execution_count": 995,
      "metadata": {
        "id": "C6Wd8uaZQQSP"
      },
      "outputs": [],
      "source": [
        "with open('webpage.html','w') as f:\n",
        "  f.write(pc)"
      ]
    },
    {
      "cell_type": "code",
      "execution_count": 996,
      "metadata": {
        "id": "UhNBxHOwSFYK"
      },
      "outputs": [],
      "source": [
        "!pip install beautifulsoup4 --upgrade --quiet"
      ]
    },
    {
      "cell_type": "code",
      "execution_count": 997,
      "metadata": {
        "id": "-naUekWKSh_8"
      },
      "outputs": [],
      "source": [
        "from bs4 import BeautifulSoup"
      ]
    },
    {
      "cell_type": "code",
      "execution_count": 998,
      "metadata": {
        "id": "fewrAV7VSyOL"
      },
      "outputs": [],
      "source": [
        "doc = BeautifulSoup(pc, 'html.parser')"
      ]
    },
    {
      "cell_type": "code",
      "execution_count": 999,
      "metadata": {
        "id": "hCltQvn4U96G"
      },
      "outputs": [],
      "source": [
        "\n",
        "atag = doc.find_all('a',{'class':'Card__productCard__SrdLF marginTop-4 Card__text__jeyhg'})"
      ]
    },
    {
      "cell_type": "code",
      "execution_count": 1000,
      "metadata": {
        "colab": {
          "base_uri": "https://localhost:8080/"
        },
        "id": "uRDQajNMVFMc",
        "outputId": "88fe3a8f-2be3-48b4-877f-5cbcb5117882"
      },
      "outputs": [
        {
          "output_type": "execute_result",
          "data": {
            "text/plain": [
              "30"
            ]
          },
          "metadata": {},
          "execution_count": 1000
        }
      ],
      "source": [
        "len(atag)"
      ]
    },
    {
      "cell_type": "code",
      "execution_count": 1001,
      "metadata": {
        "id": "dTbNrbbkvQTE"
      },
      "outputs": [],
      "source": [
        "p_tag = atag[0]"
      ]
    },
    {
      "cell_type": "code",
      "execution_count": 1002,
      "metadata": {
        "id": "V6a7MDpD8Fq_"
      },
      "outputs": [],
      "source": [
        "t_tag = doc.find_all('p',{'class':'Card__productName__qw2CE bodyMedium'})\n"
      ]
    },
    {
      "cell_type": "code",
      "execution_count": 1003,
      "metadata": {
        "id": "jTNweapmNO_t"
      },
      "outputs": [],
      "source": [
        "m_tag = doc.find_all('p',{'class':'Card__productDescription__kL6Ho'})\n",
        "\n"
      ]
    },
    {
      "cell_type": "code",
      "execution_count": 1004,
      "metadata": {
        "id": "vvafaFetrO7O"
      },
      "outputs": [],
      "source": [
        "mf = [tag.text for tag in m_tag]"
      ]
    },
    {
      "cell_type": "code",
      "execution_count": 1005,
      "metadata": {
        "colab": {
          "base_uri": "https://localhost:8080/"
        },
        "id": "VHLP-gsZs2r-",
        "outputId": "c7d2ff77-f808-4688-9135-f5a9cc0904d2"
      },
      "outputs": [
        {
          "output_type": "stream",
          "name": "stdout",
          "text": [
            "30\n"
          ]
        }
      ],
      "source": [
        "Mf = []\n",
        "for m in mf:\n",
        "    if 'mg' in m or 'Lactulose' in m or 'Dexamethasone (NA)' in m or 'Terbinafine (NA)' in m or 'Sodium Chloride (NA)' in m or 'Doxycycline (NA)' in m or 'Billion cells' in m  or 'mcg' in m or '%' in m or 'Heparin (25000IU)' in m or 'Calcitonin (Salmon) (200IU)' in m or 'Benzathine penicillin G (1200000IU)'in m or 'Vitamin D3 (60000IU)'in m or 'Adrenaline (NA)' in m or '(1.4gm/5ml)'in m or '(1.25gm/5ml)'in m or 'Guaifenesin (NA)'in m or 'Rabies vaccine, Human (2.5IU)'in m or 'Human insulin (100IU)'in m or '1.53gm/5ml)'in m or 'Insulin Glulisine (100IU/ml)'in m or 'Disodium Hydrogen Citrate (NA)'in m or '1gm'in m or 'Chlorpheniramine Maleate (NA)'in m or 'Cetirizine (NA)'in m or 'Citric Acid (NA)'in m or '(1.37gm/5ml)'in m or 'Alpha Ketoanalogue (NA)'in m or 'Atracurium (NA)'in m or 'Metoclopramide (NA)' in m or  'Hemocoagulase (0.2CU)'in m or 'Menthol (NA) 'in m or 'Bepotastine (NA)' in m or 'Loratadine (NA)'in m or 'Bacillus Clausii (NA)'in m or 'Insulin Glargine'in m or'Human Rabies Immunoglobulin (300IU)'in m or 'Betamethasone (NA)'in m or 'Vitamin B (NA)'in m or 'Bacillus Clausii (2Billion Spores)'in m or 'Freeze-dried Live Attenuated Hepatitis A Vaccine (6.5ccid50)'in m or 'Salbutamol (NA) + Etofylline (NA) + Bromhexine (NA)' in m or 'Corticotropin (60IU)' in m or 'Recombinant Human Erythropoietin Alfa (4000IU)'in m or '(1.25gm)'in m or 'Diclofenac (NA)' in m:\n",
        "        Mf.append(m)\n",
        "    \n",
        "\n",
        "print(len(Mf))"
      ]
    },
    {
      "cell_type": "code",
      "execution_count": 1006,
      "metadata": {
        "colab": {
          "base_uri": "https://localhost:8080/"
        },
        "id": "f9c2PmXAsesd",
        "outputId": "b8d3ea28-2ac2-48c1-a93a-96eafe776472"
      },
      "outputs": [
        {
          "output_type": "stream",
          "name": "stdout",
          "text": [
            "['Diclofenac (50mg) + Paracetamol (325mg)', 'Diclofenac (50mg) + Serratiopeptidase (10mg)', 'Dapagliflozin (10mg) + Metformin (500mg)', 'Clonazepam (0.25mg) + Escitalopram Oxalate (10mg)', 'Clobetasol (0.05% w/w) + Neomycin (0.5% w/w)', 'Glipizide (5mg) + Metformin (500mg)', 'Diclofenac (50mg) + Paracetamol (500mg)', 'Doxylamine (20mg) + Vitamin B6 (Pyridoxine) (20mg)', 'Duloxetine (20mg)', 'Dopamine (200mg)', 'Neomycin (0.5% w/v) + Dexamethasone (0.1% w/v)', 'Desvenlafaxine (100mg)', 'Doxylamine (20mg) + Vitamin B6 (Pyridoxine) (20mg)', 'Dexamethasone (NA)', 'Chlorpheniramine Maleate (4mg/5ml) + Dextromethorphan Hydrobromide (10mg/5ml)', 'Diosmin (900mg) + Hesperidin (100mg)', 'Desonide (0.05% w/w)', 'Diltiazem (120mg)', 'Dextromethorphan Hydrobromide (20mg)', 'Methylprednisolone (80mg)', 'Dapagliflozin (10mg)', 'Ketoconazole (2% w/v) + Zinc pyrithione (1% w/v)', 'Amoxycillin  (500mg) +  Clavulanic Acid (125mg)', 'Doxycycline (100mg) + Lactobacillus (5Billion Spores)', 'Isoxsuprine (5mg/ml)', 'Duloxetine (10mg)', 'Drotaverine (80mg)', 'Gliclazide (80mg) + Metformin (500mg)', 'Darbepoetin alfa (40mcg)', 'Aceclofenac (100mg) + Paracetamol (325mg) + Cetirizine (10mg) + Phenylephrine (5mg) + Caffeine (25mg)']\n"
          ]
        }
      ],
      "source": [
        "print(Mf)"
      ]
    },
    {
      "cell_type": "code",
      "execution_count": 1007,
      "metadata": {
        "id": "TvFImdyFyiHt"
      },
      "outputs": [],
      "source": [
        "p = [tag.text for tag in m_tag]"
      ]
    },
    {
      "cell_type": "code",
      "execution_count": 1008,
      "metadata": {
        "colab": {
          "base_uri": "https://localhost:8080/"
        },
        "id": "xlwnR_KYyq7F",
        "outputId": "36728700-ceea-40bc-c73d-29700451c4af"
      },
      "outputs": [
        {
          "output_type": "stream",
          "name": "stdout",
          "text": [
            "30\n"
          ]
        }
      ],
      "source": [
        "PD = []\n",
        "for m in p: \n",
        "  if 'strip' in m or 'vial' in m or  'bottle' in m or 'tube'in m or 'packet'in m or 'Injection'in m or 'capsules'in m or 'Soap'in m or 'Strip'in m or 'sachet'in m or 'capsule'in m or 'tablets'in m:\n",
        "    PD.append(m)\n",
        "\n",
        "\n",
        "print(len(PD))"
      ]
    },
    {
      "cell_type": "code",
      "execution_count": 1009,
      "metadata": {
        "colab": {
          "base_uri": "https://localhost:8080/"
        },
        "id": "BfsB6rla1T_x",
        "outputId": "0881ba48-44c6-42a8-fd4c-c71357b6715e"
      },
      "outputs": [
        {
          "output_type": "stream",
          "name": "stdout",
          "text": [
            "['strip of 10 tablets', 'strip of 10 tablets', 'strip of 10 tablet er', 'strip of 15 tablets', 'tube of 20 gm Cream', 'strip of 10 tablets', 'strip of 10 tablets', 'strip of 15 tablet er', 'strip of 10 Capsule DR', 'vial of 5 ml Injection', 'packet of 5 ml Eye/Ear Drops', 'strip of 10 tablet er', 'strip of 10 tablets', 'strip of 10 tablets', 'bottle of 100 ml Syrup', 'strip of 18 tablets', 'tube of 10 gm Cream', 'strip of 10 capsule er', 'strip of 10 tablets', 'vial of 2 ml Injection', 'strip of 10 tablets', 'bottle of 90 ml Shampoo', 'strip of 10 tablets', 'strip of 10 capsules', 'vial of 1 Injection', 'strip of 10 tablets', 'strip of 10 tablets', 'strip of 15 tablets', 'prefilled syringe of 1 Injection', 'strip of 10 tablets']\n"
          ]
        }
      ],
      "source": [
        "print(PD)"
      ]
    },
    {
      "cell_type": "code",
      "execution_count": 1010,
      "metadata": {
        "colab": {
          "base_uri": "https://localhost:8080/"
        },
        "id": "wRg8o3CX8Ukd",
        "outputId": "d4f02564-e585-4e28-80a9-8af99ad3bf97"
      },
      "outputs": [
        {
          "output_type": "execute_result",
          "data": {
            "text/plain": [
              "30"
            ]
          },
          "metadata": {},
          "execution_count": 1010
        }
      ],
      "source": [
        "len(t_tag)"
      ]
    },
    {
      "cell_type": "code",
      "execution_count": 1011,
      "metadata": {
        "colab": {
          "base_uri": "https://localhost:8080/"
        },
        "id": "DdfJPtFZoESC",
        "outputId": "0e2feb8b-ed2a-4e39-c732-6edd59d79a65"
      },
      "outputs": [
        {
          "output_type": "stream",
          "name": "stdout",
          "text": [
            "[<span class=\"l3Regular\">₹55.25</span>, <span class=\"l3Regular\">₹94.5</span>, <span class=\"l3Regular\">₹125</span>, <span class=\"l3Regular\">₹214.5</span>, <span class=\"l3Regular\">₹105</span>, <span class=\"l3Regular\">₹14.5</span>, <span class=\"l3Regular\">₹25</span>, <span class=\"l3Regular\">₹259.5</span>, <span class=\"l3Regular\">₹133.3</span>, <span class=\"l3Regular\">₹22</span>, <span class=\"l3Regular\">₹18</span>, <span class=\"l3Regular\">₹321</span>, <span class=\"l3Regular\">₹111</span>, <span class=\"l3Regular\">₹2.31</span>, <span class=\"l3Regular\">₹91.5</span>, <span class=\"l3Regular\">₹435.6</span>, <span class=\"l3Regular\">₹153</span>, <span class=\"l3Regular\">₹250.1</span>, <span class=\"l3Regular\">₹49.7</span>, <span class=\"l3Regular\">₹93.24</span>, <span class=\"l3Regular\">₹163.9</span>, <span class=\"l3Regular\">₹361.75</span>, <span class=\"l3Regular\">₹215.63</span>, <span class=\"l3Regular\">₹107</span>, <span class=\"l3Regular\">₹29.94</span>, <span class=\"l3Regular\">₹72</span>, <span class=\"l3Regular\">₹79.69</span>, <span class=\"l3Regular\">₹207</span>, <span class=\"l3Regular\">₹3050</span>, <span class=\"l3Regular\">₹60</span>]\n"
          ]
        }
      ],
      "source": [
        "price = doc.find_all('span', {'class': 'l3Regular'})\n",
        "print(price)"
      ]
    },
    {
      "cell_type": "code",
      "execution_count": 1012,
      "metadata": {
        "colab": {
          "base_uri": "https://localhost:8080/"
        },
        "id": "_maAivXL8jB2",
        "outputId": "6357c071-9754-470f-aa87-e5c0b7087dc3"
      },
      "outputs": [
        {
          "output_type": "stream",
          "name": "stdout",
          "text": [
            "30\n"
          ]
        }
      ],
      "source": [
        "title = []\n",
        "for tag in t_tag:\n",
        "  title.append(tag.text)\n",
        "print(len(title))\n"
      ]
    },
    {
      "cell_type": "code",
      "execution_count": 1013,
      "metadata": {
        "colab": {
          "base_uri": "https://localhost:8080/"
        },
        "id": "39pdpSHNo3VN",
        "outputId": "0be42b26-6843-422e-de8e-b6c3424d3bc4"
      },
      "outputs": [
        {
          "output_type": "stream",
          "name": "stdout",
          "text": [
            "30\n"
          ]
        }
      ],
      "source": [
        "mrp = []\n",
        "for tag in price:\n",
        "  mrp.append(tag.text)\n",
        "print(len(mrp))"
      ]
    },
    {
      "cell_type": "code",
      "execution_count": 1014,
      "metadata": {
        "colab": {
          "base_uri": "https://localhost:8080/"
        },
        "id": "aLUwe5b1edLl",
        "outputId": "fe5420d2-2ada-4eb9-d122-60184837ead6"
      },
      "outputs": [
        {
          "output_type": "stream",
          "name": "stdout",
          "text": [
            "['https://www.1mg.com/drugs/diclogesic-50mg-325mg-tablet-64103', 'https://www.1mg.com/drugs/diclomol-sp-10-tablet-67956', 'https://www.1mg.com/drugs/daparyl-m-10-500-tablet-er-651022', 'https://www.1mg.com/drugs/depran-h-tablet-370668', 'https://www.1mg.com/drugs/dipgenta-plus-cream-168199', 'https://www.1mg.com/drugs/dibizide-m-tablet-143083', 'https://www.1mg.com/drugs/diclo-plus-50mg-500mg-tablet-513806', 'https://www.1mg.com/drugs/doxinate-24-tablet-er-539393', 'https://www.1mg.com/drugs/dulot-20-capsule-dr-6328', 'https://www.1mg.com/drugs/dopamine-200mg-injection-354776', 'https://www.1mg.com/drugs/dexcin-eye-ear-drops-64083', 'https://www.1mg.com/drugs/d-veniz-100-tablet-er-70014', 'https://www.1mg.com/drugs/doxinate-g-tablet-328272', 'https://www.1mg.com/drugs/decadron-tablet-154198', 'https://www.1mg.com/drugs/dilo-dx-syrup-167523', 'https://www.1mg.com/drugs/daflon-1000mg-tablet-824761', 'https://www.1mg.com/drugs/dosetil-cream-58903', 'https://www.1mg.com/drugs/dilzem-cd-120-capsule-er-39659', 'https://www.1mg.com/drugs/dmr-20mg-tablet-261061', 'https://www.1mg.com/drugs/depo-medrol-80mg-injection-328268', 'https://www.1mg.com/drugs/dapabite-10mg-tablet-630864', 'https://www.1mg.com/drugs/danclear-shampoo-75381', 'https://www.1mg.com/drugs/duet-625-tablet-156934', 'https://www.1mg.com/drugs/doxybond-lb-capsule-335559', 'https://www.1mg.com/drugs/duvadilan-im-iv-5mg-injection-341305', 'https://www.1mg.com/drugs/dulotin-10-tablet-135557', 'https://www.1mg.com/drugs/drotikind-80mg-tablet-6172', 'https://www.1mg.com/drugs/dianorm-m-tablet-75616', 'https://www.1mg.com/drugs/darbitop-40mcg-injection-455501', 'https://www.1mg.com/drugs/diecold-plus-tablet-737463']\n"
          ]
        }
      ],
      "source": [
        "url = []\n",
        "base = 'https://www.1mg.com'\n",
        "for tag in atag:\n",
        "  url.append(base + tag['href'])\n",
        "\n",
        "print(url)"
      ]
    },
    {
      "cell_type": "code",
      "execution_count": 1015,
      "metadata": {
        "colab": {
          "base_uri": "https://localhost:8080/"
        },
        "id": "RCWRfP3IsOAB",
        "outputId": "c130c8d1-a065-406e-8ac1-73a0debc029e"
      },
      "outputs": [
        {
          "output_type": "execute_result",
          "data": {
            "text/plain": [
              "30"
            ]
          },
          "metadata": {},
          "execution_count": 1015
        }
      ],
      "source": [
        "len(url)"
      ]
    },
    {
      "cell_type": "code",
      "execution_count": 1016,
      "metadata": {
        "colab": {
          "base_uri": "https://localhost:8080/"
        },
        "id": "flpQ1HeysUc8",
        "outputId": "b5095a3c-80ce-4c25-d4d9-8a7902f2309e"
      },
      "outputs": [
        {
          "output_type": "execute_result",
          "data": {
            "text/plain": [
              "30"
            ]
          },
          "metadata": {},
          "execution_count": 1016
        }
      ],
      "source": [
        "len(Mf)"
      ]
    },
    {
      "cell_type": "code",
      "execution_count": 1017,
      "metadata": {
        "colab": {
          "base_uri": "https://localhost:8080/"
        },
        "id": "UHyLWd0gsZWd",
        "outputId": "c73b557e-8b72-4db4-a950-ebd14fa8a7dc"
      },
      "outputs": [
        {
          "output_type": "execute_result",
          "data": {
            "text/plain": [
              "30"
            ]
          },
          "metadata": {},
          "execution_count": 1017
        }
      ],
      "source": [
        "len(PD)"
      ]
    },
    {
      "cell_type": "code",
      "execution_count": 1018,
      "metadata": {
        "id": "Flq7AjbEfMfr"
      },
      "outputs": [],
      "source": [
        "!pip install pandas --quiet"
      ]
    },
    {
      "cell_type": "code",
      "execution_count": 1019,
      "metadata": {
        "id": "W7mgszawfkFR"
      },
      "outputs": [],
      "source": [
        "import pandas as pd"
      ]
    },
    {
      "cell_type": "code",
      "execution_count": 1020,
      "metadata": {
        "colab": {
          "base_uri": "https://localhost:8080/",
          "height": 1000
        },
        "id": "2QNV2-u1foGp",
        "outputId": "a8d4b526-8f0d-4347-f3cd-fdcc9a5587b2"
      },
      "outputs": [
        {
          "output_type": "execute_result",
          "data": {
            "text/plain": [
              "                         Med_Name    Price  \\\n",
              "0    Diclogesic 50mg/325mg Tablet   ₹55.25   \n",
              "1           Diclomol SP 10 Tablet    ₹94.5   \n",
              "2      Daparyl M 10/500 Tablet ER     ₹125   \n",
              "3                 Depran-H Tablet   ₹214.5   \n",
              "4             Dipgenta Plus Cream     ₹105   \n",
              "5               Dibizide-M Tablet    ₹14.5   \n",
              "6    Diclo Plus 50mg/500mg Tablet      ₹25   \n",
              "7           Doxinate 24 Tablet ER   ₹259.5   \n",
              "8             Dulot 20 Capsule DR   ₹133.3   \n",
              "9        Dopamine 200mg Injection      ₹22   \n",
              "10          Dexcin  Eye/Ear Drops      ₹18   \n",
              "11          D-Veniz 100 Tablet ER     ₹321   \n",
              "12             Doxinate -G Tablet     ₹111   \n",
              "13                Decadron Tablet    ₹2.31   \n",
              "14                  Dilo-DX Syrup    ₹91.5   \n",
              "15           Daflon 1000mg Tablet   ₹435.6   \n",
              "16                  Dosetil Cream     ₹153   \n",
              "17       Dilzem CD 120 Capsule ER   ₹250.1   \n",
              "18                DMR 20mg Tablet    ₹49.7   \n",
              "19     Depo-Medrol 80mg Injection   ₹93.24   \n",
              "20           Dapabite 10mg Tablet   ₹163.9   \n",
              "21              Danclear  Shampoo  ₹361.75   \n",
              "22                Duet 625 Tablet  ₹215.63   \n",
              "23            Doxybond-LB Capsule     ₹107   \n",
              "24  Duvadilan IM/IV 5mg Injection   ₹29.94   \n",
              "25              Dulotin 10 Tablet      ₹72   \n",
              "26          Drotikind 80mg Tablet   ₹79.69   \n",
              "27               Dianorm-M Tablet     ₹207   \n",
              "28       Darbitop 40mcg Injection    ₹3050   \n",
              "29            Diecold Plus Tablet      ₹60   \n",
              "\n",
              "                                          Active salt  \\\n",
              "0             Diclofenac (50mg) + Paracetamol (325mg)   \n",
              "1        Diclofenac (50mg) + Serratiopeptidase (10mg)   \n",
              "2            Dapagliflozin (10mg) + Metformin (500mg)   \n",
              "3   Clonazepam (0.25mg) + Escitalopram Oxalate (10mg)   \n",
              "4        Clobetasol (0.05% w/w) + Neomycin (0.5% w/w)   \n",
              "5                 Glipizide (5mg) + Metformin (500mg)   \n",
              "6             Diclofenac (50mg) + Paracetamol (500mg)   \n",
              "7   Doxylamine (20mg) + Vitamin B6 (Pyridoxine) (2...   \n",
              "8                                   Duloxetine (20mg)   \n",
              "9                                    Dopamine (200mg)   \n",
              "10     Neomycin (0.5% w/v) + Dexamethasone (0.1% w/v)   \n",
              "11                             Desvenlafaxine (100mg)   \n",
              "12  Doxylamine (20mg) + Vitamin B6 (Pyridoxine) (2...   \n",
              "13                                 Dexamethasone (NA)   \n",
              "14  Chlorpheniramine Maleate (4mg/5ml) + Dextromet...   \n",
              "15               Diosmin (900mg) + Hesperidin (100mg)   \n",
              "16                               Desonide (0.05% w/w)   \n",
              "17                                  Diltiazem (120mg)   \n",
              "18               Dextromethorphan Hydrobromide (20mg)   \n",
              "19                          Methylprednisolone (80mg)   \n",
              "20                               Dapagliflozin (10mg)   \n",
              "21   Ketoconazole (2% w/v) + Zinc pyrithione (1% w/v)   \n",
              "22    Amoxycillin  (500mg) +  Clavulanic Acid (125mg)   \n",
              "23  Doxycycline (100mg) + Lactobacillus (5Billion ...   \n",
              "24                               Isoxsuprine (5mg/ml)   \n",
              "25                                  Duloxetine (10mg)   \n",
              "26                                 Drotaverine (80mg)   \n",
              "27              Gliclazide (80mg) + Metformin (500mg)   \n",
              "28                           Darbepoetin alfa (40mcg)   \n",
              "29  Aceclofenac (100mg) + Paracetamol (325mg) + Ce...   \n",
              "\n",
              "                           Pack size  \\\n",
              "0                strip of 10 tablets   \n",
              "1                strip of 10 tablets   \n",
              "2              strip of 10 tablet er   \n",
              "3                strip of 15 tablets   \n",
              "4                tube of 20 gm Cream   \n",
              "5                strip of 10 tablets   \n",
              "6                strip of 10 tablets   \n",
              "7              strip of 15 tablet er   \n",
              "8             strip of 10 Capsule DR   \n",
              "9             vial of 5 ml Injection   \n",
              "10      packet of 5 ml Eye/Ear Drops   \n",
              "11             strip of 10 tablet er   \n",
              "12               strip of 10 tablets   \n",
              "13               strip of 10 tablets   \n",
              "14            bottle of 100 ml Syrup   \n",
              "15               strip of 18 tablets   \n",
              "16               tube of 10 gm Cream   \n",
              "17            strip of 10 capsule er   \n",
              "18               strip of 10 tablets   \n",
              "19            vial of 2 ml Injection   \n",
              "20               strip of 10 tablets   \n",
              "21           bottle of 90 ml Shampoo   \n",
              "22               strip of 10 tablets   \n",
              "23              strip of 10 capsules   \n",
              "24               vial of 1 Injection   \n",
              "25               strip of 10 tablets   \n",
              "26               strip of 10 tablets   \n",
              "27               strip of 15 tablets   \n",
              "28  prefilled syringe of 1 Injection   \n",
              "29               strip of 10 tablets   \n",
              "\n",
              "                                                 Link  \n",
              "0   https://www.1mg.com/drugs/diclogesic-50mg-325m...  \n",
              "1   https://www.1mg.com/drugs/diclomol-sp-10-table...  \n",
              "2   https://www.1mg.com/drugs/daparyl-m-10-500-tab...  \n",
              "3    https://www.1mg.com/drugs/depran-h-tablet-370668  \n",
              "4   https://www.1mg.com/drugs/dipgenta-plus-cream-...  \n",
              "5   https://www.1mg.com/drugs/dibizide-m-tablet-14...  \n",
              "6   https://www.1mg.com/drugs/diclo-plus-50mg-500m...  \n",
              "7   https://www.1mg.com/drugs/doxinate-24-tablet-e...  \n",
              "8   https://www.1mg.com/drugs/dulot-20-capsule-dr-...  \n",
              "9   https://www.1mg.com/drugs/dopamine-200mg-injec...  \n",
              "10  https://www.1mg.com/drugs/dexcin-eye-ear-drops...  \n",
              "11  https://www.1mg.com/drugs/d-veniz-100-tablet-e...  \n",
              "12  https://www.1mg.com/drugs/doxinate-g-tablet-32...  \n",
              "13   https://www.1mg.com/drugs/decadron-tablet-154198  \n",
              "14     https://www.1mg.com/drugs/dilo-dx-syrup-167523  \n",
              "15  https://www.1mg.com/drugs/daflon-1000mg-tablet...  \n",
              "16      https://www.1mg.com/drugs/dosetil-cream-58903  \n",
              "17  https://www.1mg.com/drugs/dilzem-cd-120-capsul...  \n",
              "18   https://www.1mg.com/drugs/dmr-20mg-tablet-261061  \n",
              "19  https://www.1mg.com/drugs/depo-medrol-80mg-inj...  \n",
              "20  https://www.1mg.com/drugs/dapabite-10mg-tablet...  \n",
              "21   https://www.1mg.com/drugs/danclear-shampoo-75381  \n",
              "22   https://www.1mg.com/drugs/duet-625-tablet-156934  \n",
              "23  https://www.1mg.com/drugs/doxybond-lb-capsule-...  \n",
              "24  https://www.1mg.com/drugs/duvadilan-im-iv-5mg-...  \n",
              "25  https://www.1mg.com/drugs/dulotin-10-tablet-13...  \n",
              "26  https://www.1mg.com/drugs/drotikind-80mg-table...  \n",
              "27   https://www.1mg.com/drugs/dianorm-m-tablet-75616  \n",
              "28  https://www.1mg.com/drugs/darbitop-40mcg-injec...  \n",
              "29  https://www.1mg.com/drugs/diecold-plus-tablet-...  "
            ],
            "text/html": [
              "\n",
              "  <div id=\"df-9576ac6f-ed82-49b3-aa1e-123619cd393d\">\n",
              "    <div class=\"colab-df-container\">\n",
              "      <div>\n",
              "<style scoped>\n",
              "    .dataframe tbody tr th:only-of-type {\n",
              "        vertical-align: middle;\n",
              "    }\n",
              "\n",
              "    .dataframe tbody tr th {\n",
              "        vertical-align: top;\n",
              "    }\n",
              "\n",
              "    .dataframe thead th {\n",
              "        text-align: right;\n",
              "    }\n",
              "</style>\n",
              "<table border=\"1\" class=\"dataframe\">\n",
              "  <thead>\n",
              "    <tr style=\"text-align: right;\">\n",
              "      <th></th>\n",
              "      <th>Med_Name</th>\n",
              "      <th>Price</th>\n",
              "      <th>Active salt</th>\n",
              "      <th>Pack size</th>\n",
              "      <th>Link</th>\n",
              "    </tr>\n",
              "  </thead>\n",
              "  <tbody>\n",
              "    <tr>\n",
              "      <th>0</th>\n",
              "      <td>Diclogesic 50mg/325mg Tablet</td>\n",
              "      <td>₹55.25</td>\n",
              "      <td>Diclofenac (50mg) + Paracetamol (325mg)</td>\n",
              "      <td>strip of 10 tablets</td>\n",
              "      <td>https://www.1mg.com/drugs/diclogesic-50mg-325m...</td>\n",
              "    </tr>\n",
              "    <tr>\n",
              "      <th>1</th>\n",
              "      <td>Diclomol SP 10 Tablet</td>\n",
              "      <td>₹94.5</td>\n",
              "      <td>Diclofenac (50mg) + Serratiopeptidase (10mg)</td>\n",
              "      <td>strip of 10 tablets</td>\n",
              "      <td>https://www.1mg.com/drugs/diclomol-sp-10-table...</td>\n",
              "    </tr>\n",
              "    <tr>\n",
              "      <th>2</th>\n",
              "      <td>Daparyl M 10/500 Tablet ER</td>\n",
              "      <td>₹125</td>\n",
              "      <td>Dapagliflozin (10mg) + Metformin (500mg)</td>\n",
              "      <td>strip of 10 tablet er</td>\n",
              "      <td>https://www.1mg.com/drugs/daparyl-m-10-500-tab...</td>\n",
              "    </tr>\n",
              "    <tr>\n",
              "      <th>3</th>\n",
              "      <td>Depran-H Tablet</td>\n",
              "      <td>₹214.5</td>\n",
              "      <td>Clonazepam (0.25mg) + Escitalopram Oxalate (10mg)</td>\n",
              "      <td>strip of 15 tablets</td>\n",
              "      <td>https://www.1mg.com/drugs/depran-h-tablet-370668</td>\n",
              "    </tr>\n",
              "    <tr>\n",
              "      <th>4</th>\n",
              "      <td>Dipgenta Plus Cream</td>\n",
              "      <td>₹105</td>\n",
              "      <td>Clobetasol (0.05% w/w) + Neomycin (0.5% w/w)</td>\n",
              "      <td>tube of 20 gm Cream</td>\n",
              "      <td>https://www.1mg.com/drugs/dipgenta-plus-cream-...</td>\n",
              "    </tr>\n",
              "    <tr>\n",
              "      <th>5</th>\n",
              "      <td>Dibizide-M Tablet</td>\n",
              "      <td>₹14.5</td>\n",
              "      <td>Glipizide (5mg) + Metformin (500mg)</td>\n",
              "      <td>strip of 10 tablets</td>\n",
              "      <td>https://www.1mg.com/drugs/dibizide-m-tablet-14...</td>\n",
              "    </tr>\n",
              "    <tr>\n",
              "      <th>6</th>\n",
              "      <td>Diclo Plus 50mg/500mg Tablet</td>\n",
              "      <td>₹25</td>\n",
              "      <td>Diclofenac (50mg) + Paracetamol (500mg)</td>\n",
              "      <td>strip of 10 tablets</td>\n",
              "      <td>https://www.1mg.com/drugs/diclo-plus-50mg-500m...</td>\n",
              "    </tr>\n",
              "    <tr>\n",
              "      <th>7</th>\n",
              "      <td>Doxinate 24 Tablet ER</td>\n",
              "      <td>₹259.5</td>\n",
              "      <td>Doxylamine (20mg) + Vitamin B6 (Pyridoxine) (2...</td>\n",
              "      <td>strip of 15 tablet er</td>\n",
              "      <td>https://www.1mg.com/drugs/doxinate-24-tablet-e...</td>\n",
              "    </tr>\n",
              "    <tr>\n",
              "      <th>8</th>\n",
              "      <td>Dulot 20 Capsule DR</td>\n",
              "      <td>₹133.3</td>\n",
              "      <td>Duloxetine (20mg)</td>\n",
              "      <td>strip of 10 Capsule DR</td>\n",
              "      <td>https://www.1mg.com/drugs/dulot-20-capsule-dr-...</td>\n",
              "    </tr>\n",
              "    <tr>\n",
              "      <th>9</th>\n",
              "      <td>Dopamine 200mg Injection</td>\n",
              "      <td>₹22</td>\n",
              "      <td>Dopamine (200mg)</td>\n",
              "      <td>vial of 5 ml Injection</td>\n",
              "      <td>https://www.1mg.com/drugs/dopamine-200mg-injec...</td>\n",
              "    </tr>\n",
              "    <tr>\n",
              "      <th>10</th>\n",
              "      <td>Dexcin  Eye/Ear Drops</td>\n",
              "      <td>₹18</td>\n",
              "      <td>Neomycin (0.5% w/v) + Dexamethasone (0.1% w/v)</td>\n",
              "      <td>packet of 5 ml Eye/Ear Drops</td>\n",
              "      <td>https://www.1mg.com/drugs/dexcin-eye-ear-drops...</td>\n",
              "    </tr>\n",
              "    <tr>\n",
              "      <th>11</th>\n",
              "      <td>D-Veniz 100 Tablet ER</td>\n",
              "      <td>₹321</td>\n",
              "      <td>Desvenlafaxine (100mg)</td>\n",
              "      <td>strip of 10 tablet er</td>\n",
              "      <td>https://www.1mg.com/drugs/d-veniz-100-tablet-e...</td>\n",
              "    </tr>\n",
              "    <tr>\n",
              "      <th>12</th>\n",
              "      <td>Doxinate -G Tablet</td>\n",
              "      <td>₹111</td>\n",
              "      <td>Doxylamine (20mg) + Vitamin B6 (Pyridoxine) (2...</td>\n",
              "      <td>strip of 10 tablets</td>\n",
              "      <td>https://www.1mg.com/drugs/doxinate-g-tablet-32...</td>\n",
              "    </tr>\n",
              "    <tr>\n",
              "      <th>13</th>\n",
              "      <td>Decadron Tablet</td>\n",
              "      <td>₹2.31</td>\n",
              "      <td>Dexamethasone (NA)</td>\n",
              "      <td>strip of 10 tablets</td>\n",
              "      <td>https://www.1mg.com/drugs/decadron-tablet-154198</td>\n",
              "    </tr>\n",
              "    <tr>\n",
              "      <th>14</th>\n",
              "      <td>Dilo-DX Syrup</td>\n",
              "      <td>₹91.5</td>\n",
              "      <td>Chlorpheniramine Maleate (4mg/5ml) + Dextromet...</td>\n",
              "      <td>bottle of 100 ml Syrup</td>\n",
              "      <td>https://www.1mg.com/drugs/dilo-dx-syrup-167523</td>\n",
              "    </tr>\n",
              "    <tr>\n",
              "      <th>15</th>\n",
              "      <td>Daflon 1000mg Tablet</td>\n",
              "      <td>₹435.6</td>\n",
              "      <td>Diosmin (900mg) + Hesperidin (100mg)</td>\n",
              "      <td>strip of 18 tablets</td>\n",
              "      <td>https://www.1mg.com/drugs/daflon-1000mg-tablet...</td>\n",
              "    </tr>\n",
              "    <tr>\n",
              "      <th>16</th>\n",
              "      <td>Dosetil Cream</td>\n",
              "      <td>₹153</td>\n",
              "      <td>Desonide (0.05% w/w)</td>\n",
              "      <td>tube of 10 gm Cream</td>\n",
              "      <td>https://www.1mg.com/drugs/dosetil-cream-58903</td>\n",
              "    </tr>\n",
              "    <tr>\n",
              "      <th>17</th>\n",
              "      <td>Dilzem CD 120 Capsule ER</td>\n",
              "      <td>₹250.1</td>\n",
              "      <td>Diltiazem (120mg)</td>\n",
              "      <td>strip of 10 capsule er</td>\n",
              "      <td>https://www.1mg.com/drugs/dilzem-cd-120-capsul...</td>\n",
              "    </tr>\n",
              "    <tr>\n",
              "      <th>18</th>\n",
              "      <td>DMR 20mg Tablet</td>\n",
              "      <td>₹49.7</td>\n",
              "      <td>Dextromethorphan Hydrobromide (20mg)</td>\n",
              "      <td>strip of 10 tablets</td>\n",
              "      <td>https://www.1mg.com/drugs/dmr-20mg-tablet-261061</td>\n",
              "    </tr>\n",
              "    <tr>\n",
              "      <th>19</th>\n",
              "      <td>Depo-Medrol 80mg Injection</td>\n",
              "      <td>₹93.24</td>\n",
              "      <td>Methylprednisolone (80mg)</td>\n",
              "      <td>vial of 2 ml Injection</td>\n",
              "      <td>https://www.1mg.com/drugs/depo-medrol-80mg-inj...</td>\n",
              "    </tr>\n",
              "    <tr>\n",
              "      <th>20</th>\n",
              "      <td>Dapabite 10mg Tablet</td>\n",
              "      <td>₹163.9</td>\n",
              "      <td>Dapagliflozin (10mg)</td>\n",
              "      <td>strip of 10 tablets</td>\n",
              "      <td>https://www.1mg.com/drugs/dapabite-10mg-tablet...</td>\n",
              "    </tr>\n",
              "    <tr>\n",
              "      <th>21</th>\n",
              "      <td>Danclear  Shampoo</td>\n",
              "      <td>₹361.75</td>\n",
              "      <td>Ketoconazole (2% w/v) + Zinc pyrithione (1% w/v)</td>\n",
              "      <td>bottle of 90 ml Shampoo</td>\n",
              "      <td>https://www.1mg.com/drugs/danclear-shampoo-75381</td>\n",
              "    </tr>\n",
              "    <tr>\n",
              "      <th>22</th>\n",
              "      <td>Duet 625 Tablet</td>\n",
              "      <td>₹215.63</td>\n",
              "      <td>Amoxycillin  (500mg) +  Clavulanic Acid (125mg)</td>\n",
              "      <td>strip of 10 tablets</td>\n",
              "      <td>https://www.1mg.com/drugs/duet-625-tablet-156934</td>\n",
              "    </tr>\n",
              "    <tr>\n",
              "      <th>23</th>\n",
              "      <td>Doxybond-LB Capsule</td>\n",
              "      <td>₹107</td>\n",
              "      <td>Doxycycline (100mg) + Lactobacillus (5Billion ...</td>\n",
              "      <td>strip of 10 capsules</td>\n",
              "      <td>https://www.1mg.com/drugs/doxybond-lb-capsule-...</td>\n",
              "    </tr>\n",
              "    <tr>\n",
              "      <th>24</th>\n",
              "      <td>Duvadilan IM/IV 5mg Injection</td>\n",
              "      <td>₹29.94</td>\n",
              "      <td>Isoxsuprine (5mg/ml)</td>\n",
              "      <td>vial of 1 Injection</td>\n",
              "      <td>https://www.1mg.com/drugs/duvadilan-im-iv-5mg-...</td>\n",
              "    </tr>\n",
              "    <tr>\n",
              "      <th>25</th>\n",
              "      <td>Dulotin 10 Tablet</td>\n",
              "      <td>₹72</td>\n",
              "      <td>Duloxetine (10mg)</td>\n",
              "      <td>strip of 10 tablets</td>\n",
              "      <td>https://www.1mg.com/drugs/dulotin-10-tablet-13...</td>\n",
              "    </tr>\n",
              "    <tr>\n",
              "      <th>26</th>\n",
              "      <td>Drotikind 80mg Tablet</td>\n",
              "      <td>₹79.69</td>\n",
              "      <td>Drotaverine (80mg)</td>\n",
              "      <td>strip of 10 tablets</td>\n",
              "      <td>https://www.1mg.com/drugs/drotikind-80mg-table...</td>\n",
              "    </tr>\n",
              "    <tr>\n",
              "      <th>27</th>\n",
              "      <td>Dianorm-M Tablet</td>\n",
              "      <td>₹207</td>\n",
              "      <td>Gliclazide (80mg) + Metformin (500mg)</td>\n",
              "      <td>strip of 15 tablets</td>\n",
              "      <td>https://www.1mg.com/drugs/dianorm-m-tablet-75616</td>\n",
              "    </tr>\n",
              "    <tr>\n",
              "      <th>28</th>\n",
              "      <td>Darbitop 40mcg Injection</td>\n",
              "      <td>₹3050</td>\n",
              "      <td>Darbepoetin alfa (40mcg)</td>\n",
              "      <td>prefilled syringe of 1 Injection</td>\n",
              "      <td>https://www.1mg.com/drugs/darbitop-40mcg-injec...</td>\n",
              "    </tr>\n",
              "    <tr>\n",
              "      <th>29</th>\n",
              "      <td>Diecold Plus Tablet</td>\n",
              "      <td>₹60</td>\n",
              "      <td>Aceclofenac (100mg) + Paracetamol (325mg) + Ce...</td>\n",
              "      <td>strip of 10 tablets</td>\n",
              "      <td>https://www.1mg.com/drugs/diecold-plus-tablet-...</td>\n",
              "    </tr>\n",
              "  </tbody>\n",
              "</table>\n",
              "</div>\n",
              "      <button class=\"colab-df-convert\" onclick=\"convertToInteractive('df-9576ac6f-ed82-49b3-aa1e-123619cd393d')\"\n",
              "              title=\"Convert this dataframe to an interactive table.\"\n",
              "              style=\"display:none;\">\n",
              "        \n",
              "  <svg xmlns=\"http://www.w3.org/2000/svg\" height=\"24px\"viewBox=\"0 0 24 24\"\n",
              "       width=\"24px\">\n",
              "    <path d=\"M0 0h24v24H0V0z\" fill=\"none\"/>\n",
              "    <path d=\"M18.56 5.44l.94 2.06.94-2.06 2.06-.94-2.06-.94-.94-2.06-.94 2.06-2.06.94zm-11 1L8.5 8.5l.94-2.06 2.06-.94-2.06-.94L8.5 2.5l-.94 2.06-2.06.94zm10 10l.94 2.06.94-2.06 2.06-.94-2.06-.94-.94-2.06-.94 2.06-2.06.94z\"/><path d=\"M17.41 7.96l-1.37-1.37c-.4-.4-.92-.59-1.43-.59-.52 0-1.04.2-1.43.59L10.3 9.45l-7.72 7.72c-.78.78-.78 2.05 0 2.83L4 21.41c.39.39.9.59 1.41.59.51 0 1.02-.2 1.41-.59l7.78-7.78 2.81-2.81c.8-.78.8-2.07 0-2.86zM5.41 20L4 18.59l7.72-7.72 1.47 1.35L5.41 20z\"/>\n",
              "  </svg>\n",
              "      </button>\n",
              "      \n",
              "  <style>\n",
              "    .colab-df-container {\n",
              "      display:flex;\n",
              "      flex-wrap:wrap;\n",
              "      gap: 12px;\n",
              "    }\n",
              "\n",
              "    .colab-df-convert {\n",
              "      background-color: #E8F0FE;\n",
              "      border: none;\n",
              "      border-radius: 50%;\n",
              "      cursor: pointer;\n",
              "      display: none;\n",
              "      fill: #1967D2;\n",
              "      height: 32px;\n",
              "      padding: 0 0 0 0;\n",
              "      width: 32px;\n",
              "    }\n",
              "\n",
              "    .colab-df-convert:hover {\n",
              "      background-color: #E2EBFA;\n",
              "      box-shadow: 0px 1px 2px rgba(60, 64, 67, 0.3), 0px 1px 3px 1px rgba(60, 64, 67, 0.15);\n",
              "      fill: #174EA6;\n",
              "    }\n",
              "\n",
              "    [theme=dark] .colab-df-convert {\n",
              "      background-color: #3B4455;\n",
              "      fill: #D2E3FC;\n",
              "    }\n",
              "\n",
              "    [theme=dark] .colab-df-convert:hover {\n",
              "      background-color: #434B5C;\n",
              "      box-shadow: 0px 1px 3px 1px rgba(0, 0, 0, 0.15);\n",
              "      filter: drop-shadow(0px 1px 2px rgba(0, 0, 0, 0.3));\n",
              "      fill: #FFFFFF;\n",
              "    }\n",
              "  </style>\n",
              "\n",
              "      <script>\n",
              "        const buttonEl =\n",
              "          document.querySelector('#df-9576ac6f-ed82-49b3-aa1e-123619cd393d button.colab-df-convert');\n",
              "        buttonEl.style.display =\n",
              "          google.colab.kernel.accessAllowed ? 'block' : 'none';\n",
              "\n",
              "        async function convertToInteractive(key) {\n",
              "          const element = document.querySelector('#df-9576ac6f-ed82-49b3-aa1e-123619cd393d');\n",
              "          const dataTable =\n",
              "            await google.colab.kernel.invokeFunction('convertToInteractive',\n",
              "                                                     [key], {});\n",
              "          if (!dataTable) return;\n",
              "\n",
              "          const docLinkHtml = 'Like what you see? Visit the ' +\n",
              "            '<a target=\"_blank\" href=https://colab.research.google.com/notebooks/data_table.ipynb>data table notebook</a>'\n",
              "            + ' to learn more about interactive tables.';\n",
              "          element.innerHTML = '';\n",
              "          dataTable['output_type'] = 'display_data';\n",
              "          await google.colab.output.renderOutput(dataTable, element);\n",
              "          const docLink = document.createElement('div');\n",
              "          docLink.innerHTML = docLinkHtml;\n",
              "          element.appendChild(docLink);\n",
              "        }\n",
              "      </script>\n",
              "    </div>\n",
              "  </div>\n",
              "  "
            ]
          },
          "metadata": {},
          "execution_count": 1020
        }
      ],
      "source": [
        "\n",
        "dict1 = {'Med_Name':title,'Price':mrp,'Active salt':Mf,'Pack size' :PD,'Link':url}\n",
        "med_df = pd.DataFrame(dict1)\n",
        "med_df"
      ]
    },
    {
      "cell_type": "code",
      "execution_count": 1021,
      "metadata": {
        "id": "-rz-2FxCZFuv"
      },
      "outputs": [],
      "source": [
        "topic_page = url[0]"
      ]
    },
    {
      "cell_type": "code",
      "execution_count": 1022,
      "metadata": {
        "id": "hjuTgd1iZc_z",
        "colab": {
          "base_uri": "https://localhost:8080/",
          "height": 35
        },
        "outputId": "403c906e-e398-4603-f6fe-93723b870f0f"
      },
      "outputs": [
        {
          "output_type": "execute_result",
          "data": {
            "text/plain": [
              "'https://www.1mg.com/drugs/diclogesic-50mg-325mg-tablet-64103'"
            ],
            "application/vnd.google.colaboratory.intrinsic+json": {
              "type": "string"
            }
          },
          "metadata": {},
          "execution_count": 1022
        }
      ],
      "source": [
        "topic_page"
      ]
    },
    {
      "cell_type": "code",
      "execution_count": 1023,
      "metadata": {
        "id": "1nP7ZEoWZ93j"
      },
      "outputs": [],
      "source": [
        "response = requests.get(topic_page)"
      ]
    },
    {
      "cell_type": "code",
      "execution_count": 1025,
      "metadata": {
        "id": "F7lDatxymRto",
        "colab": {
          "base_uri": "https://localhost:8080/"
        },
        "outputId": "dd0c5978-49e8-495b-e09f-cd740598421c"
      },
      "outputs": [
        {
          "output_type": "execute_result",
          "data": {
            "text/plain": [
              "316272"
            ]
          },
          "metadata": {},
          "execution_count": 1025
        }
      ],
      "source": [
        "len(response.text)"
      ]
    },
    {
      "cell_type": "code",
      "execution_count": 1026,
      "metadata": {
        "id": "GFyjz-bSaH0n",
        "colab": {
          "base_uri": "https://localhost:8080/"
        },
        "outputId": "4bbe2d61-4ed1-4b26-9139-e62ce168da34"
      },
      "outputs": [
        {
          "output_type": "execute_result",
          "data": {
            "text/plain": [
              "200"
            ]
          },
          "metadata": {},
          "execution_count": 1026
        }
      ],
      "source": [
        "response.status_code"
      ]
    },
    {
      "cell_type": "code",
      "execution_count": 1027,
      "metadata": {
        "id": "Ib7UmPRRz-M-"
      },
      "outputs": [],
      "source": [
        "tp = response.text"
      ]
    },
    {
      "cell_type": "code",
      "execution_count": 1028,
      "metadata": {
        "id": "41RqNYqp0QpH"
      },
      "outputs": [],
      "source": [
        "topic_doc = BeautifulSoup(tp, 'html.parser')"
      ]
    },
    {
      "cell_type": "code",
      "execution_count": 1029,
      "metadata": {
        "id": "Iq4D4otg0gcM"
      },
      "outputs": [],
      "source": [
        "div_tag = topic_doc.find_all(\"div\")"
      ]
    },
    {
      "cell_type": "code",
      "execution_count": 1030,
      "metadata": {
        "id": "0255yTUaYq_z"
      },
      "outputs": [],
      "source": [
        "prd = topic_doc.find_all('div',{'class':'col-6 bodyRegular textPrimary marginTop-8'})"
      ]
    },
    {
      "cell_type": "code",
      "execution_count": 1031,
      "metadata": {
        "id": "bKclHL6NY9ky"
      },
      "outputs": [],
      "source": [
        "pdt= [tag.text for tag in prd]"
      ]
    },
    {
      "cell_type": "code",
      "execution_count": 1032,
      "metadata": {
        "id": "BPg5KVetZXi-",
        "colab": {
          "base_uri": "https://localhost:8080/"
        },
        "outputId": "bded69b8-b9aa-4a15-b765-0d2bbc0ff724"
      },
      "outputs": [
        {
          "output_type": "execute_result",
          "data": {
            "text/plain": [
              "['Diclogesic 50mg/325mg Tablet is a pain-relieving medicine. It is used to reduce pain and inflammation in conditions like rheumatoid arthritis, ankylosing spondylitis, and osteoarthritis. It may also be used to relieve muscle pain, back pain, toothache, or pain in the ear and throat.']"
            ]
          },
          "metadata": {},
          "execution_count": 1032
        }
      ],
      "source": [
        "pdt"
      ]
    },
    {
      "cell_type": "code",
      "execution_count": 1033,
      "metadata": {
        "id": "iR9W7zJQeCdf"
      },
      "outputs": [],
      "source": [
        "use = topic_doc.find_all('div',{'class':'col-6 marginTop-8 GeneralDescription__htmlNodeWrapper__h23K3'})\n"
      ]
    },
    {
      "cell_type": "code",
      "execution_count": 1034,
      "metadata": {
        "id": "Uz1qG7Rbw_yO",
        "colab": {
          "base_uri": "https://localhost:8080/"
        },
        "outputId": "a2f6c9cc-3ff1-4507-d5d1-e4e2f67c81f2"
      },
      "outputs": [
        {
          "output_type": "execute_result",
          "data": {
            "text/plain": [
              "<div class=\"col-6 marginTop-8 GeneralDescription__htmlNodeWrapper__h23K3\"></div>"
            ]
          },
          "metadata": {},
          "execution_count": 1034
        }
      ],
      "source": [
        "use[0]"
      ]
    },
    {
      "cell_type": "code",
      "execution_count": 1035,
      "metadata": {
        "id": "ERuL6KhueLpn"
      },
      "outputs": [],
      "source": [
        "u_txt = [tag.text for tag in use][1]\n",
        "u_txt1 = u_txt.split('.')"
      ]
    },
    {
      "cell_type": "code",
      "execution_count": 1036,
      "metadata": {
        "id": "FpPv75EbDQCX",
        "colab": {
          "base_uri": "https://localhost:8080/"
        },
        "outputId": "52bfec54-e01e-4305-a537-72c916048c4b"
      },
      "outputs": [
        {
          "output_type": "execute_result",
          "data": {
            "text/plain": [
              "['Diclogesic 50mg/325mg Tablet should be taken with food',\n",
              " ' This will prevent you from getting an upset stomach',\n",
              " ' You should take it regularly as advised by your doctor',\n",
              " ' Do not take more or use it for a longer duration than recommended by your doctor',\n",
              " 'Some of the common side effects of this medicine include nausea, vomiting, stomach pain, loss of appetite, heartburn, and diarrhea',\n",
              " ' If any of these side effects bother you or do not go away with time, you should let your doctor know',\n",
              " ' Your doctor may help you with ways to reduce or prevent the side effects',\n",
              " 'The medicine may not be suitable for everybody',\n",
              " ' Before taking it, let your doctor know if you have any problems with your heart, kidneys, liver, or have stomach ulcers',\n",
              " ' To make sure it is safe for you, let your doctor know about all the other medicines you are taking',\n",
              " ' Pregnant and breastfeeding mothers should first consult their doctors before using this medicine',\n",
              " '']"
            ]
          },
          "metadata": {},
          "execution_count": 1036
        }
      ],
      "source": [
        "u_txt1"
      ]
    },
    {
      "cell_type": "code",
      "execution_count": 1037,
      "metadata": {
        "id": "aVvt-kAVCxrz"
      },
      "outputs": [],
      "source": [
        "rsef = []\n",
        "for u in u_txt1 :\n",
        "  if re.search(r'side effects', u):\n",
        "     rsef.append(u)\n",
        "  \n"
      ]
    },
    {
      "cell_type": "code",
      "execution_count": 1038,
      "metadata": {
        "id": "AOBVuJwIFydX",
        "colab": {
          "base_uri": "https://localhost:8080/",
          "height": 53
        },
        "outputId": "e37ffff9-5864-4c39-a733-7e3bf223b000"
      },
      "outputs": [
        {
          "output_type": "execute_result",
          "data": {
            "text/plain": [
              "'Some of the common side effects of this medicine include nausea, vomiting, stomach pain, loss of appetite, heartburn, and diarrhea'"
            ],
            "application/vnd.google.colaboratory.intrinsic+json": {
              "type": "string"
            }
          },
          "metadata": {},
          "execution_count": 1038
        }
      ],
      "source": [
        "sf = rsef[0]\n",
        "sf\n",
        "\n"
      ]
    },
    {
      "cell_type": "code",
      "execution_count": 1039,
      "metadata": {
        "id": "IKHRMriQPdfl",
        "colab": {
          "base_uri": "https://localhost:8080/",
          "height": 81
        },
        "outputId": "1668bbf1-bc29-4e2b-9fc2-90f3465becb9"
      },
      "outputs": [
        {
          "output_type": "execute_result",
          "data": {
            "text/plain": [
              "                                 Product Description  \\\n",
              "0  Diclogesic 50mg/325mg Tablet is a pain-relievi...   \n",
              "\n",
              "                                         Side effect  \n",
              "0  Some of the common side effects of this medici...  "
            ],
            "text/html": [
              "\n",
              "  <div id=\"df-15fc037d-cb9b-4f31-89c8-795b4252c479\">\n",
              "    <div class=\"colab-df-container\">\n",
              "      <div>\n",
              "<style scoped>\n",
              "    .dataframe tbody tr th:only-of-type {\n",
              "        vertical-align: middle;\n",
              "    }\n",
              "\n",
              "    .dataframe tbody tr th {\n",
              "        vertical-align: top;\n",
              "    }\n",
              "\n",
              "    .dataframe thead th {\n",
              "        text-align: right;\n",
              "    }\n",
              "</style>\n",
              "<table border=\"1\" class=\"dataframe\">\n",
              "  <thead>\n",
              "    <tr style=\"text-align: right;\">\n",
              "      <th></th>\n",
              "      <th>Product Description</th>\n",
              "      <th>Side effect</th>\n",
              "    </tr>\n",
              "  </thead>\n",
              "  <tbody>\n",
              "    <tr>\n",
              "      <th>0</th>\n",
              "      <td>Diclogesic 50mg/325mg Tablet is a pain-relievi...</td>\n",
              "      <td>Some of the common side effects of this medici...</td>\n",
              "    </tr>\n",
              "  </tbody>\n",
              "</table>\n",
              "</div>\n",
              "      <button class=\"colab-df-convert\" onclick=\"convertToInteractive('df-15fc037d-cb9b-4f31-89c8-795b4252c479')\"\n",
              "              title=\"Convert this dataframe to an interactive table.\"\n",
              "              style=\"display:none;\">\n",
              "        \n",
              "  <svg xmlns=\"http://www.w3.org/2000/svg\" height=\"24px\"viewBox=\"0 0 24 24\"\n",
              "       width=\"24px\">\n",
              "    <path d=\"M0 0h24v24H0V0z\" fill=\"none\"/>\n",
              "    <path d=\"M18.56 5.44l.94 2.06.94-2.06 2.06-.94-2.06-.94-.94-2.06-.94 2.06-2.06.94zm-11 1L8.5 8.5l.94-2.06 2.06-.94-2.06-.94L8.5 2.5l-.94 2.06-2.06.94zm10 10l.94 2.06.94-2.06 2.06-.94-2.06-.94-.94-2.06-.94 2.06-2.06.94z\"/><path d=\"M17.41 7.96l-1.37-1.37c-.4-.4-.92-.59-1.43-.59-.52 0-1.04.2-1.43.59L10.3 9.45l-7.72 7.72c-.78.78-.78 2.05 0 2.83L4 21.41c.39.39.9.59 1.41.59.51 0 1.02-.2 1.41-.59l7.78-7.78 2.81-2.81c.8-.78.8-2.07 0-2.86zM5.41 20L4 18.59l7.72-7.72 1.47 1.35L5.41 20z\"/>\n",
              "  </svg>\n",
              "      </button>\n",
              "      \n",
              "  <style>\n",
              "    .colab-df-container {\n",
              "      display:flex;\n",
              "      flex-wrap:wrap;\n",
              "      gap: 12px;\n",
              "    }\n",
              "\n",
              "    .colab-df-convert {\n",
              "      background-color: #E8F0FE;\n",
              "      border: none;\n",
              "      border-radius: 50%;\n",
              "      cursor: pointer;\n",
              "      display: none;\n",
              "      fill: #1967D2;\n",
              "      height: 32px;\n",
              "      padding: 0 0 0 0;\n",
              "      width: 32px;\n",
              "    }\n",
              "\n",
              "    .colab-df-convert:hover {\n",
              "      background-color: #E2EBFA;\n",
              "      box-shadow: 0px 1px 2px rgba(60, 64, 67, 0.3), 0px 1px 3px 1px rgba(60, 64, 67, 0.15);\n",
              "      fill: #174EA6;\n",
              "    }\n",
              "\n",
              "    [theme=dark] .colab-df-convert {\n",
              "      background-color: #3B4455;\n",
              "      fill: #D2E3FC;\n",
              "    }\n",
              "\n",
              "    [theme=dark] .colab-df-convert:hover {\n",
              "      background-color: #434B5C;\n",
              "      box-shadow: 0px 1px 3px 1px rgba(0, 0, 0, 0.15);\n",
              "      filter: drop-shadow(0px 1px 2px rgba(0, 0, 0, 0.3));\n",
              "      fill: #FFFFFF;\n",
              "    }\n",
              "  </style>\n",
              "\n",
              "      <script>\n",
              "        const buttonEl =\n",
              "          document.querySelector('#df-15fc037d-cb9b-4f31-89c8-795b4252c479 button.colab-df-convert');\n",
              "        buttonEl.style.display =\n",
              "          google.colab.kernel.accessAllowed ? 'block' : 'none';\n",
              "\n",
              "        async function convertToInteractive(key) {\n",
              "          const element = document.querySelector('#df-15fc037d-cb9b-4f31-89c8-795b4252c479');\n",
              "          const dataTable =\n",
              "            await google.colab.kernel.invokeFunction('convertToInteractive',\n",
              "                                                     [key], {});\n",
              "          if (!dataTable) return;\n",
              "\n",
              "          const docLinkHtml = 'Like what you see? Visit the ' +\n",
              "            '<a target=\"_blank\" href=https://colab.research.google.com/notebooks/data_table.ipynb>data table notebook</a>'\n",
              "            + ' to learn more about interactive tables.';\n",
              "          element.innerHTML = '';\n",
              "          dataTable['output_type'] = 'display_data';\n",
              "          await google.colab.output.renderOutput(dataTable, element);\n",
              "          const docLink = document.createElement('div');\n",
              "          docLink.innerHTML = docLinkHtml;\n",
              "          element.appendChild(docLink);\n",
              "        }\n",
              "      </script>\n",
              "    </div>\n",
              "  </div>\n",
              "  "
            ]
          },
          "metadata": {},
          "execution_count": 1039
        }
      ],
      "source": [
        "dict2 =  {'Product Description':pdt,'Side effect':sf}\n",
        "spec_med = pd.DataFrame(dict2)\n",
        "spec_med"
      ]
    },
    {
      "cell_type": "code",
      "execution_count": 1040,
      "metadata": {
        "id": "6Jgs4XUgOLuI",
        "colab": {
          "base_uri": "https://localhost:8080/",
          "height": 53
        },
        "outputId": "1391775f-2ad5-480f-97ac-af416effe374"
      },
      "outputs": [
        {
          "output_type": "execute_result",
          "data": {
            "text/plain": [
              "'Some of the common side effects of this medicine include nausea, vomiting, stomach pain, loss of appetite, heartburn, and diarrhea'"
            ],
            "application/vnd.google.colaboratory.intrinsic+json": {
              "type": "string"
            }
          },
          "metadata": {},
          "execution_count": 1040
        }
      ],
      "source": [
        "sf"
      ]
    },
    {
      "cell_type": "code",
      "execution_count": 1041,
      "metadata": {
        "id": "CN-ZLo3M2H6R"
      },
      "outputs": [],
      "source": [
        "sp = topic_doc.find_all('span')"
      ]
    },
    {
      "cell_type": "code",
      "execution_count": 1042,
      "metadata": {
        "id": "E5Hkr1xusrM_"
      },
      "outputs": [],
      "source": [
        "def med_info():\n",
        "\n",
        "  prd = topic_doc.find_all('div',{'class':'col-6 bodyRegular textPrimary marginTop-8'})\n",
        "  pdt = [tag.text for tag in prd]\n",
        "  use = topic_doc.find_all('div',{'class':'col-6 marginTop-8 GeneralDescription__htmlNodeWrapper__h23K3'})\n",
        "  u_txt = [tag.text for tag in use][1]\n",
        "  u_txt1 = u_txt.split('.')\n",
        "  rsef = []\n",
        "  for u in u_txt1 :\n",
        "    if re.search(r'side effects', u):\n",
        "      rsef.append(u)\n",
        "  sf = rsef[0]\n",
        "  sp = topic_doc.find_all('span')[-1]\n",
        "  spn =  [tag.text for tag in sp]\n",
        "\n",
        "  dict = {'Product Description':pdt,'Side effect':sf}\n"
      ]
    },
    {
      "cell_type": "code",
      "execution_count": 1043,
      "metadata": {
        "id": "MtQTnM8H3_Fl",
        "colab": {
          "base_uri": "https://localhost:8080/"
        },
        "outputId": "f8e219c0-7da3-4f1c-f133-b8defb69bb75"
      },
      "outputs": [
        {
          "output_type": "execute_result",
          "data": {
            "text/plain": [
              "['Diclogesic 50mg/325mg Tablet is a pain-relieving medicine. It is used to reduce pain and inflammation in conditions like rheumatoid arthritis, ankylosing spondylitis, and osteoarthritis. It may also be used to relieve muscle pain, back pain, toothache, or pain in the ear and throat.']"
            ]
          },
          "metadata": {},
          "execution_count": 1043
        }
      ],
      "source": [
        "pdt"
      ]
    },
    {
      "cell_type": "code",
      "execution_count": 1044,
      "metadata": {
        "id": "h7sz0EozhTYv"
      },
      "outputs": [],
      "source": [
        "product_info = []\n",
        "\n",
        "# Loop through the URLs to extract the product information\n",
        "for u in url:\n",
        "    # Send a request to the URL\n",
        "    r = requests.get(u)\n",
        "    \n",
        "    # Create a BeautifulSoup object with the HTML content\n",
        "    soup = BeautifulSoup(r.content, 'html.parser')\n",
        "    \n",
        "    # Extract the product description and side effect\n",
        "    prd = soup.find('div',{'class':'col-6 bodyRegular textPrimary marginTop-8'})\n",
        "    pdt = [tag.text for tag in prd]\n",
        "    use = soup.find_all('div',{'class':'col-6 marginTop-8 GeneralDescription__htmlNodeWrapper__h23K3'})\n",
        "    u_txt = [tag.text for tag in use][1]\n",
        "    u_txt1 = u_txt.split('.')\n",
        "    rsef = []\n",
        "    for u in u_txt1 :\n",
        "      if re.search(r'side effects', u):\n",
        "        rsef.append(u)\n",
        "        sf = rsef[0]\n",
        "\n",
        "    \n",
        "    \n",
        "    # Create a dictionary with the product information\n",
        "    dict2 = {'Product Description': pdt, 'Side effect': sf}\n",
        "    \n",
        "    # Add the dictionary to the list of product information\n",
        "    product_info.append(dict2)"
      ]
    },
    {
      "cell_type": "code",
      "execution_count": 1045,
      "metadata": {
        "id": "t4uv34YlkR6c",
        "colab": {
          "base_uri": "https://localhost:8080/",
          "height": 990
        },
        "outputId": "3fbe9808-5253-46fd-d9e9-0b0d6c625eec"
      },
      "outputs": [
        {
          "output_type": "execute_result",
          "data": {
            "text/plain": [
              "                                  Product Description  \\\n",
              "0   [Diclogesic 50mg/325mg Tablet is a pain-reliev...   \n",
              "1   [Diclomol SP 10 Tablet is a combination of two...   \n",
              "2   [Daparyl M 10/500 Tablet ER is a combination o...   \n",
              "3   [Depran-H Tablet is a prescription medicine us...   \n",
              "4   [Dipgenta Plus Cream is used to treat various ...   \n",
              "5   [Dibizide-M Tablet belongs to a category of me...   \n",
              "6   [Diclo Plus 50mg/500mg Tablet is a pain-reliev...   \n",
              "7   [Doxinate 24 Tablet ER is a combination medici...   \n",
              "8   [Dulot 20 Capsule DR is used in the treatment ...   \n",
              "9   [Dopamine 200mg Injection is a medicine used f...   \n",
              "10  [Dexcin  Eye/Ear Drops is a medicine used to t...   \n",
              "11  [D-Veniz 100 Tablet ER is a prescription medic...   \n",
              "12  [Doxinate -G Tablet is a combination medicine ...   \n",
              "13  [Decadron Tablet belongs to a group of medicin...   \n",
              "14  [Dilo-DX Syrup is a combination medicine used ...   \n",
              "15  [Daflon 1000mg Tablet is a combinational medic...   \n",
              "16  [Dosetil Cream is a topical steroid use for th...   \n",
              "17  [Dilzem CD 120 Capsule ER is used to treat ang...   \n",
              "18  [DMR 20mg Tablet is an antitussive medicine. I...   \n",
              "19  [Depo-Medrol 80mg Injection is a type of medic...   \n",
              "20  [Dapabite 10mg Tablet is used alone or in comb...   \n",
              "21  [Danclear  Shampoo is a combination of two ant...   \n",
              "22  [Duet 625 Tablet is an antibiotic that helps y...   \n",
              "23  [Doxybond-LB Capsule is a combination medicine...   \n",
              "24  [Duvadilan IM/IV 5mg Injection is a vasodilato...   \n",
              "25  [Dulotin 10 Tablet is used in the treatment of...   \n",
              "26  [Drotikind 80mg Tablet is an antispasmodic med...   \n",
              "27  [Dianorm-M Tablet belongs to a category of med...   \n",
              "28  [Darbitop 40mcg Injection is used in the treat...   \n",
              "29  [Diecold Plus Tablet is a medicine used in the...   \n",
              "\n",
              "                                          Side effect  \n",
              "0   Some of the common side effects of this medici...  \n",
              "1   The most common side effects of this medicine ...  \n",
              "2   The most common side effects of this medicine ...  \n",
              "3   Some common side effects of this medicine incl...  \n",
              "4    These side effects are usually mild and self-...  \n",
              "5    Other side effects that may be seen on taking...  \n",
              "6   Some of the common side effects of this medici...  \n",
              "7   Some common side effects of this medicine are ...  \n",
              "8   Some common side effects of this medicine incl...  \n",
              "9   Some common side effects of this medicine incl...  \n",
              "10  Some common side effects of this medicine incl...  \n",
              "11  Some common side effects of this medicine incl...  \n",
              "12  Some common side effects of this medicine are ...  \n",
              "13  The most common side effects of this medicine ...  \n",
              "14  The most common side effects are nausea, upset...  \n",
              "15  The most common side effects are itching, stom...  \n",
              "16  The most common side effects are itching, stom...  \n",
              "17  Common side effects seen with this medicine in...  \n",
              "18  The most common side effects of this medicine ...  \n",
              "19   Taking a higher dose will not improve your co...  \n",
              "20  The most common side effects of Dapabite 10mg ...  \n",
              "21   Do not use more than you need it will not cle...  \n",
              "22  The most common side effects of Duet 625 Table...  \n",
              "23  Some common side effects of this medicine are ...  \n",
              "24  Some common side effects of this medicine are ...  \n",
              "25  Some common side effects of this medicine incl...  \n",
              "26  The most common side effects of this medicine ...  \n",
              "27   Other side effects that may be seen on taking...  \n",
              "28  Darbitop 40mcg Injection is a medicine that ne...  \n",
              "29   Let your doctor know if any of these side eff...  "
            ],
            "text/html": [
              "\n",
              "  <div id=\"df-1d0dd160-5ffa-49e0-8ee0-4211105c294b\">\n",
              "    <div class=\"colab-df-container\">\n",
              "      <div>\n",
              "<style scoped>\n",
              "    .dataframe tbody tr th:only-of-type {\n",
              "        vertical-align: middle;\n",
              "    }\n",
              "\n",
              "    .dataframe tbody tr th {\n",
              "        vertical-align: top;\n",
              "    }\n",
              "\n",
              "    .dataframe thead th {\n",
              "        text-align: right;\n",
              "    }\n",
              "</style>\n",
              "<table border=\"1\" class=\"dataframe\">\n",
              "  <thead>\n",
              "    <tr style=\"text-align: right;\">\n",
              "      <th></th>\n",
              "      <th>Product Description</th>\n",
              "      <th>Side effect</th>\n",
              "    </tr>\n",
              "  </thead>\n",
              "  <tbody>\n",
              "    <tr>\n",
              "      <th>0</th>\n",
              "      <td>[Diclogesic 50mg/325mg Tablet is a pain-reliev...</td>\n",
              "      <td>Some of the common side effects of this medici...</td>\n",
              "    </tr>\n",
              "    <tr>\n",
              "      <th>1</th>\n",
              "      <td>[Diclomol SP 10 Tablet is a combination of two...</td>\n",
              "      <td>The most common side effects of this medicine ...</td>\n",
              "    </tr>\n",
              "    <tr>\n",
              "      <th>2</th>\n",
              "      <td>[Daparyl M 10/500 Tablet ER is a combination o...</td>\n",
              "      <td>The most common side effects of this medicine ...</td>\n",
              "    </tr>\n",
              "    <tr>\n",
              "      <th>3</th>\n",
              "      <td>[Depran-H Tablet is a prescription medicine us...</td>\n",
              "      <td>Some common side effects of this medicine incl...</td>\n",
              "    </tr>\n",
              "    <tr>\n",
              "      <th>4</th>\n",
              "      <td>[Dipgenta Plus Cream is used to treat various ...</td>\n",
              "      <td>These side effects are usually mild and self-...</td>\n",
              "    </tr>\n",
              "    <tr>\n",
              "      <th>5</th>\n",
              "      <td>[Dibizide-M Tablet belongs to a category of me...</td>\n",
              "      <td>Other side effects that may be seen on taking...</td>\n",
              "    </tr>\n",
              "    <tr>\n",
              "      <th>6</th>\n",
              "      <td>[Diclo Plus 50mg/500mg Tablet is a pain-reliev...</td>\n",
              "      <td>Some of the common side effects of this medici...</td>\n",
              "    </tr>\n",
              "    <tr>\n",
              "      <th>7</th>\n",
              "      <td>[Doxinate 24 Tablet ER is a combination medici...</td>\n",
              "      <td>Some common side effects of this medicine are ...</td>\n",
              "    </tr>\n",
              "    <tr>\n",
              "      <th>8</th>\n",
              "      <td>[Dulot 20 Capsule DR is used in the treatment ...</td>\n",
              "      <td>Some common side effects of this medicine incl...</td>\n",
              "    </tr>\n",
              "    <tr>\n",
              "      <th>9</th>\n",
              "      <td>[Dopamine 200mg Injection is a medicine used f...</td>\n",
              "      <td>Some common side effects of this medicine incl...</td>\n",
              "    </tr>\n",
              "    <tr>\n",
              "      <th>10</th>\n",
              "      <td>[Dexcin  Eye/Ear Drops is a medicine used to t...</td>\n",
              "      <td>Some common side effects of this medicine incl...</td>\n",
              "    </tr>\n",
              "    <tr>\n",
              "      <th>11</th>\n",
              "      <td>[D-Veniz 100 Tablet ER is a prescription medic...</td>\n",
              "      <td>Some common side effects of this medicine incl...</td>\n",
              "    </tr>\n",
              "    <tr>\n",
              "      <th>12</th>\n",
              "      <td>[Doxinate -G Tablet is a combination medicine ...</td>\n",
              "      <td>Some common side effects of this medicine are ...</td>\n",
              "    </tr>\n",
              "    <tr>\n",
              "      <th>13</th>\n",
              "      <td>[Decadron Tablet belongs to a group of medicin...</td>\n",
              "      <td>The most common side effects of this medicine ...</td>\n",
              "    </tr>\n",
              "    <tr>\n",
              "      <th>14</th>\n",
              "      <td>[Dilo-DX Syrup is a combination medicine used ...</td>\n",
              "      <td>The most common side effects are nausea, upset...</td>\n",
              "    </tr>\n",
              "    <tr>\n",
              "      <th>15</th>\n",
              "      <td>[Daflon 1000mg Tablet is a combinational medic...</td>\n",
              "      <td>The most common side effects are itching, stom...</td>\n",
              "    </tr>\n",
              "    <tr>\n",
              "      <th>16</th>\n",
              "      <td>[Dosetil Cream is a topical steroid use for th...</td>\n",
              "      <td>The most common side effects are itching, stom...</td>\n",
              "    </tr>\n",
              "    <tr>\n",
              "      <th>17</th>\n",
              "      <td>[Dilzem CD 120 Capsule ER is used to treat ang...</td>\n",
              "      <td>Common side effects seen with this medicine in...</td>\n",
              "    </tr>\n",
              "    <tr>\n",
              "      <th>18</th>\n",
              "      <td>[DMR 20mg Tablet is an antitussive medicine. I...</td>\n",
              "      <td>The most common side effects of this medicine ...</td>\n",
              "    </tr>\n",
              "    <tr>\n",
              "      <th>19</th>\n",
              "      <td>[Depo-Medrol 80mg Injection is a type of medic...</td>\n",
              "      <td>Taking a higher dose will not improve your co...</td>\n",
              "    </tr>\n",
              "    <tr>\n",
              "      <th>20</th>\n",
              "      <td>[Dapabite 10mg Tablet is used alone or in comb...</td>\n",
              "      <td>The most common side effects of Dapabite 10mg ...</td>\n",
              "    </tr>\n",
              "    <tr>\n",
              "      <th>21</th>\n",
              "      <td>[Danclear  Shampoo is a combination of two ant...</td>\n",
              "      <td>Do not use more than you need it will not cle...</td>\n",
              "    </tr>\n",
              "    <tr>\n",
              "      <th>22</th>\n",
              "      <td>[Duet 625 Tablet is an antibiotic that helps y...</td>\n",
              "      <td>The most common side effects of Duet 625 Table...</td>\n",
              "    </tr>\n",
              "    <tr>\n",
              "      <th>23</th>\n",
              "      <td>[Doxybond-LB Capsule is a combination medicine...</td>\n",
              "      <td>Some common side effects of this medicine are ...</td>\n",
              "    </tr>\n",
              "    <tr>\n",
              "      <th>24</th>\n",
              "      <td>[Duvadilan IM/IV 5mg Injection is a vasodilato...</td>\n",
              "      <td>Some common side effects of this medicine are ...</td>\n",
              "    </tr>\n",
              "    <tr>\n",
              "      <th>25</th>\n",
              "      <td>[Dulotin 10 Tablet is used in the treatment of...</td>\n",
              "      <td>Some common side effects of this medicine incl...</td>\n",
              "    </tr>\n",
              "    <tr>\n",
              "      <th>26</th>\n",
              "      <td>[Drotikind 80mg Tablet is an antispasmodic med...</td>\n",
              "      <td>The most common side effects of this medicine ...</td>\n",
              "    </tr>\n",
              "    <tr>\n",
              "      <th>27</th>\n",
              "      <td>[Dianorm-M Tablet belongs to a category of med...</td>\n",
              "      <td>Other side effects that may be seen on taking...</td>\n",
              "    </tr>\n",
              "    <tr>\n",
              "      <th>28</th>\n",
              "      <td>[Darbitop 40mcg Injection is used in the treat...</td>\n",
              "      <td>Darbitop 40mcg Injection is a medicine that ne...</td>\n",
              "    </tr>\n",
              "    <tr>\n",
              "      <th>29</th>\n",
              "      <td>[Diecold Plus Tablet is a medicine used in the...</td>\n",
              "      <td>Let your doctor know if any of these side eff...</td>\n",
              "    </tr>\n",
              "  </tbody>\n",
              "</table>\n",
              "</div>\n",
              "      <button class=\"colab-df-convert\" onclick=\"convertToInteractive('df-1d0dd160-5ffa-49e0-8ee0-4211105c294b')\"\n",
              "              title=\"Convert this dataframe to an interactive table.\"\n",
              "              style=\"display:none;\">\n",
              "        \n",
              "  <svg xmlns=\"http://www.w3.org/2000/svg\" height=\"24px\"viewBox=\"0 0 24 24\"\n",
              "       width=\"24px\">\n",
              "    <path d=\"M0 0h24v24H0V0z\" fill=\"none\"/>\n",
              "    <path d=\"M18.56 5.44l.94 2.06.94-2.06 2.06-.94-2.06-.94-.94-2.06-.94 2.06-2.06.94zm-11 1L8.5 8.5l.94-2.06 2.06-.94-2.06-.94L8.5 2.5l-.94 2.06-2.06.94zm10 10l.94 2.06.94-2.06 2.06-.94-2.06-.94-.94-2.06-.94 2.06-2.06.94z\"/><path d=\"M17.41 7.96l-1.37-1.37c-.4-.4-.92-.59-1.43-.59-.52 0-1.04.2-1.43.59L10.3 9.45l-7.72 7.72c-.78.78-.78 2.05 0 2.83L4 21.41c.39.39.9.59 1.41.59.51 0 1.02-.2 1.41-.59l7.78-7.78 2.81-2.81c.8-.78.8-2.07 0-2.86zM5.41 20L4 18.59l7.72-7.72 1.47 1.35L5.41 20z\"/>\n",
              "  </svg>\n",
              "      </button>\n",
              "      \n",
              "  <style>\n",
              "    .colab-df-container {\n",
              "      display:flex;\n",
              "      flex-wrap:wrap;\n",
              "      gap: 12px;\n",
              "    }\n",
              "\n",
              "    .colab-df-convert {\n",
              "      background-color: #E8F0FE;\n",
              "      border: none;\n",
              "      border-radius: 50%;\n",
              "      cursor: pointer;\n",
              "      display: none;\n",
              "      fill: #1967D2;\n",
              "      height: 32px;\n",
              "      padding: 0 0 0 0;\n",
              "      width: 32px;\n",
              "    }\n",
              "\n",
              "    .colab-df-convert:hover {\n",
              "      background-color: #E2EBFA;\n",
              "      box-shadow: 0px 1px 2px rgba(60, 64, 67, 0.3), 0px 1px 3px 1px rgba(60, 64, 67, 0.15);\n",
              "      fill: #174EA6;\n",
              "    }\n",
              "\n",
              "    [theme=dark] .colab-df-convert {\n",
              "      background-color: #3B4455;\n",
              "      fill: #D2E3FC;\n",
              "    }\n",
              "\n",
              "    [theme=dark] .colab-df-convert:hover {\n",
              "      background-color: #434B5C;\n",
              "      box-shadow: 0px 1px 3px 1px rgba(0, 0, 0, 0.15);\n",
              "      filter: drop-shadow(0px 1px 2px rgba(0, 0, 0, 0.3));\n",
              "      fill: #FFFFFF;\n",
              "    }\n",
              "  </style>\n",
              "\n",
              "      <script>\n",
              "        const buttonEl =\n",
              "          document.querySelector('#df-1d0dd160-5ffa-49e0-8ee0-4211105c294b button.colab-df-convert');\n",
              "        buttonEl.style.display =\n",
              "          google.colab.kernel.accessAllowed ? 'block' : 'none';\n",
              "\n",
              "        async function convertToInteractive(key) {\n",
              "          const element = document.querySelector('#df-1d0dd160-5ffa-49e0-8ee0-4211105c294b');\n",
              "          const dataTable =\n",
              "            await google.colab.kernel.invokeFunction('convertToInteractive',\n",
              "                                                     [key], {});\n",
              "          if (!dataTable) return;\n",
              "\n",
              "          const docLinkHtml = 'Like what you see? Visit the ' +\n",
              "            '<a target=\"_blank\" href=https://colab.research.google.com/notebooks/data_table.ipynb>data table notebook</a>'\n",
              "            + ' to learn more about interactive tables.';\n",
              "          element.innerHTML = '';\n",
              "          dataTable['output_type'] = 'display_data';\n",
              "          await google.colab.output.renderOutput(dataTable, element);\n",
              "          const docLink = document.createElement('div');\n",
              "          docLink.innerHTML = docLinkHtml;\n",
              "          element.appendChild(docLink);\n",
              "        }\n",
              "      </script>\n",
              "    </div>\n",
              "  </div>\n",
              "  "
            ]
          },
          "metadata": {},
          "execution_count": 1045
        }
      ],
      "source": [
        "product_info\n",
        "pinfo_df = pd.DataFrame(product_info)\n",
        "pinfo_df"
      ]
    },
    {
      "cell_type": "code",
      "execution_count": 1046,
      "metadata": {
        "id": "JhhUYy4BjuI3"
      },
      "outputs": [],
      "source": [
        "new_dict = {}\n",
        "for d in product_info:\n",
        "    new_dict.update(d)\n",
        "new_dict.update(dict1)"
      ]
    },
    {
      "cell_type": "markdown",
      "metadata": {
        "id": "WkmpO5C2rwlX"
      },
      "source": []
    },
    {
      "cell_type": "code",
      "execution_count": 1047,
      "metadata": {
        "id": "Dws_oWZwmkES",
        "colab": {
          "base_uri": "https://localhost:8080/",
          "height": 1000
        },
        "outputId": "f91bb439-8d3f-4d1e-f178-8a0ad10a373f"
      },
      "outputs": [
        {
          "output_type": "execute_result",
          "data": {
            "text/plain": [
              "                         Med_Name    Price  \\\n",
              "0    Diclogesic 50mg/325mg Tablet   ₹55.25   \n",
              "1           Diclomol SP 10 Tablet    ₹94.5   \n",
              "2      Daparyl M 10/500 Tablet ER     ₹125   \n",
              "3                 Depran-H Tablet   ₹214.5   \n",
              "4             Dipgenta Plus Cream     ₹105   \n",
              "5               Dibizide-M Tablet    ₹14.5   \n",
              "6    Diclo Plus 50mg/500mg Tablet      ₹25   \n",
              "7           Doxinate 24 Tablet ER   ₹259.5   \n",
              "8             Dulot 20 Capsule DR   ₹133.3   \n",
              "9        Dopamine 200mg Injection      ₹22   \n",
              "10          Dexcin  Eye/Ear Drops      ₹18   \n",
              "11          D-Veniz 100 Tablet ER     ₹321   \n",
              "12             Doxinate -G Tablet     ₹111   \n",
              "13                Decadron Tablet    ₹2.31   \n",
              "14                  Dilo-DX Syrup    ₹91.5   \n",
              "15           Daflon 1000mg Tablet   ₹435.6   \n",
              "16                  Dosetil Cream     ₹153   \n",
              "17       Dilzem CD 120 Capsule ER   ₹250.1   \n",
              "18                DMR 20mg Tablet    ₹49.7   \n",
              "19     Depo-Medrol 80mg Injection   ₹93.24   \n",
              "20           Dapabite 10mg Tablet   ₹163.9   \n",
              "21              Danclear  Shampoo  ₹361.75   \n",
              "22                Duet 625 Tablet  ₹215.63   \n",
              "23            Doxybond-LB Capsule     ₹107   \n",
              "24  Duvadilan IM/IV 5mg Injection   ₹29.94   \n",
              "25              Dulotin 10 Tablet      ₹72   \n",
              "26          Drotikind 80mg Tablet   ₹79.69   \n",
              "27               Dianorm-M Tablet     ₹207   \n",
              "28       Darbitop 40mcg Injection    ₹3050   \n",
              "29            Diecold Plus Tablet      ₹60   \n",
              "\n",
              "                                          Active salt  \\\n",
              "0             Diclofenac (50mg) + Paracetamol (325mg)   \n",
              "1        Diclofenac (50mg) + Serratiopeptidase (10mg)   \n",
              "2            Dapagliflozin (10mg) + Metformin (500mg)   \n",
              "3   Clonazepam (0.25mg) + Escitalopram Oxalate (10mg)   \n",
              "4        Clobetasol (0.05% w/w) + Neomycin (0.5% w/w)   \n",
              "5                 Glipizide (5mg) + Metformin (500mg)   \n",
              "6             Diclofenac (50mg) + Paracetamol (500mg)   \n",
              "7   Doxylamine (20mg) + Vitamin B6 (Pyridoxine) (2...   \n",
              "8                                   Duloxetine (20mg)   \n",
              "9                                    Dopamine (200mg)   \n",
              "10     Neomycin (0.5% w/v) + Dexamethasone (0.1% w/v)   \n",
              "11                             Desvenlafaxine (100mg)   \n",
              "12  Doxylamine (20mg) + Vitamin B6 (Pyridoxine) (2...   \n",
              "13                                 Dexamethasone (NA)   \n",
              "14  Chlorpheniramine Maleate (4mg/5ml) + Dextromet...   \n",
              "15               Diosmin (900mg) + Hesperidin (100mg)   \n",
              "16                               Desonide (0.05% w/w)   \n",
              "17                                  Diltiazem (120mg)   \n",
              "18               Dextromethorphan Hydrobromide (20mg)   \n",
              "19                          Methylprednisolone (80mg)   \n",
              "20                               Dapagliflozin (10mg)   \n",
              "21   Ketoconazole (2% w/v) + Zinc pyrithione (1% w/v)   \n",
              "22    Amoxycillin  (500mg) +  Clavulanic Acid (125mg)   \n",
              "23  Doxycycline (100mg) + Lactobacillus (5Billion ...   \n",
              "24                               Isoxsuprine (5mg/ml)   \n",
              "25                                  Duloxetine (10mg)   \n",
              "26                                 Drotaverine (80mg)   \n",
              "27              Gliclazide (80mg) + Metformin (500mg)   \n",
              "28                           Darbepoetin alfa (40mcg)   \n",
              "29  Aceclofenac (100mg) + Paracetamol (325mg) + Ce...   \n",
              "\n",
              "                           Pack size  \\\n",
              "0                strip of 10 tablets   \n",
              "1                strip of 10 tablets   \n",
              "2              strip of 10 tablet er   \n",
              "3                strip of 15 tablets   \n",
              "4                tube of 20 gm Cream   \n",
              "5                strip of 10 tablets   \n",
              "6                strip of 10 tablets   \n",
              "7              strip of 15 tablet er   \n",
              "8             strip of 10 Capsule DR   \n",
              "9             vial of 5 ml Injection   \n",
              "10      packet of 5 ml Eye/Ear Drops   \n",
              "11             strip of 10 tablet er   \n",
              "12               strip of 10 tablets   \n",
              "13               strip of 10 tablets   \n",
              "14            bottle of 100 ml Syrup   \n",
              "15               strip of 18 tablets   \n",
              "16               tube of 10 gm Cream   \n",
              "17            strip of 10 capsule er   \n",
              "18               strip of 10 tablets   \n",
              "19            vial of 2 ml Injection   \n",
              "20               strip of 10 tablets   \n",
              "21           bottle of 90 ml Shampoo   \n",
              "22               strip of 10 tablets   \n",
              "23              strip of 10 capsules   \n",
              "24               vial of 1 Injection   \n",
              "25               strip of 10 tablets   \n",
              "26               strip of 10 tablets   \n",
              "27               strip of 15 tablets   \n",
              "28  prefilled syringe of 1 Injection   \n",
              "29               strip of 10 tablets   \n",
              "\n",
              "                                                 Link  \\\n",
              "0   https://www.1mg.com/drugs/diclogesic-50mg-325m...   \n",
              "1   https://www.1mg.com/drugs/diclomol-sp-10-table...   \n",
              "2   https://www.1mg.com/drugs/daparyl-m-10-500-tab...   \n",
              "3    https://www.1mg.com/drugs/depran-h-tablet-370668   \n",
              "4   https://www.1mg.com/drugs/dipgenta-plus-cream-...   \n",
              "5   https://www.1mg.com/drugs/dibizide-m-tablet-14...   \n",
              "6   https://www.1mg.com/drugs/diclo-plus-50mg-500m...   \n",
              "7   https://www.1mg.com/drugs/doxinate-24-tablet-e...   \n",
              "8   https://www.1mg.com/drugs/dulot-20-capsule-dr-...   \n",
              "9   https://www.1mg.com/drugs/dopamine-200mg-injec...   \n",
              "10  https://www.1mg.com/drugs/dexcin-eye-ear-drops...   \n",
              "11  https://www.1mg.com/drugs/d-veniz-100-tablet-e...   \n",
              "12  https://www.1mg.com/drugs/doxinate-g-tablet-32...   \n",
              "13   https://www.1mg.com/drugs/decadron-tablet-154198   \n",
              "14     https://www.1mg.com/drugs/dilo-dx-syrup-167523   \n",
              "15  https://www.1mg.com/drugs/daflon-1000mg-tablet...   \n",
              "16      https://www.1mg.com/drugs/dosetil-cream-58903   \n",
              "17  https://www.1mg.com/drugs/dilzem-cd-120-capsul...   \n",
              "18   https://www.1mg.com/drugs/dmr-20mg-tablet-261061   \n",
              "19  https://www.1mg.com/drugs/depo-medrol-80mg-inj...   \n",
              "20  https://www.1mg.com/drugs/dapabite-10mg-tablet...   \n",
              "21   https://www.1mg.com/drugs/danclear-shampoo-75381   \n",
              "22   https://www.1mg.com/drugs/duet-625-tablet-156934   \n",
              "23  https://www.1mg.com/drugs/doxybond-lb-capsule-...   \n",
              "24  https://www.1mg.com/drugs/duvadilan-im-iv-5mg-...   \n",
              "25  https://www.1mg.com/drugs/dulotin-10-tablet-13...   \n",
              "26  https://www.1mg.com/drugs/drotikind-80mg-table...   \n",
              "27   https://www.1mg.com/drugs/dianorm-m-tablet-75616   \n",
              "28  https://www.1mg.com/drugs/darbitop-40mcg-injec...   \n",
              "29  https://www.1mg.com/drugs/diecold-plus-tablet-...   \n",
              "\n",
              "                                  Product Description  \\\n",
              "0   [Diclogesic 50mg/325mg Tablet is a pain-reliev...   \n",
              "1   [Diclomol SP 10 Tablet is a combination of two...   \n",
              "2   [Daparyl M 10/500 Tablet ER is a combination o...   \n",
              "3   [Depran-H Tablet is a prescription medicine us...   \n",
              "4   [Dipgenta Plus Cream is used to treat various ...   \n",
              "5   [Dibizide-M Tablet belongs to a category of me...   \n",
              "6   [Diclo Plus 50mg/500mg Tablet is a pain-reliev...   \n",
              "7   [Doxinate 24 Tablet ER is a combination medici...   \n",
              "8   [Dulot 20 Capsule DR is used in the treatment ...   \n",
              "9   [Dopamine 200mg Injection is a medicine used f...   \n",
              "10  [Dexcin  Eye/Ear Drops is a medicine used to t...   \n",
              "11  [D-Veniz 100 Tablet ER is a prescription medic...   \n",
              "12  [Doxinate -G Tablet is a combination medicine ...   \n",
              "13  [Decadron Tablet belongs to a group of medicin...   \n",
              "14  [Dilo-DX Syrup is a combination medicine used ...   \n",
              "15  [Daflon 1000mg Tablet is a combinational medic...   \n",
              "16  [Dosetil Cream is a topical steroid use for th...   \n",
              "17  [Dilzem CD 120 Capsule ER is used to treat ang...   \n",
              "18  [DMR 20mg Tablet is an antitussive medicine. I...   \n",
              "19  [Depo-Medrol 80mg Injection is a type of medic...   \n",
              "20  [Dapabite 10mg Tablet is used alone or in comb...   \n",
              "21  [Danclear  Shampoo is a combination of two ant...   \n",
              "22  [Duet 625 Tablet is an antibiotic that helps y...   \n",
              "23  [Doxybond-LB Capsule is a combination medicine...   \n",
              "24  [Duvadilan IM/IV 5mg Injection is a vasodilato...   \n",
              "25  [Dulotin 10 Tablet is used in the treatment of...   \n",
              "26  [Drotikind 80mg Tablet is an antispasmodic med...   \n",
              "27  [Dianorm-M Tablet belongs to a category of med...   \n",
              "28  [Darbitop 40mcg Injection is used in the treat...   \n",
              "29  [Diecold Plus Tablet is a medicine used in the...   \n",
              "\n",
              "                                          Side effect  \n",
              "0   Some of the common side effects of this medici...  \n",
              "1   The most common side effects of this medicine ...  \n",
              "2   The most common side effects of this medicine ...  \n",
              "3   Some common side effects of this medicine incl...  \n",
              "4    These side effects are usually mild and self-...  \n",
              "5    Other side effects that may be seen on taking...  \n",
              "6   Some of the common side effects of this medici...  \n",
              "7   Some common side effects of this medicine are ...  \n",
              "8   Some common side effects of this medicine incl...  \n",
              "9   Some common side effects of this medicine incl...  \n",
              "10  Some common side effects of this medicine incl...  \n",
              "11  Some common side effects of this medicine incl...  \n",
              "12  Some common side effects of this medicine are ...  \n",
              "13  The most common side effects of this medicine ...  \n",
              "14  The most common side effects are nausea, upset...  \n",
              "15  The most common side effects are itching, stom...  \n",
              "16  The most common side effects are itching, stom...  \n",
              "17  Common side effects seen with this medicine in...  \n",
              "18  The most common side effects of this medicine ...  \n",
              "19   Taking a higher dose will not improve your co...  \n",
              "20  The most common side effects of Dapabite 10mg ...  \n",
              "21   Do not use more than you need it will not cle...  \n",
              "22  The most common side effects of Duet 625 Table...  \n",
              "23  Some common side effects of this medicine are ...  \n",
              "24  Some common side effects of this medicine are ...  \n",
              "25  Some common side effects of this medicine incl...  \n",
              "26  The most common side effects of this medicine ...  \n",
              "27   Other side effects that may be seen on taking...  \n",
              "28  Darbitop 40mcg Injection is a medicine that ne...  \n",
              "29   Let your doctor know if any of these side eff...  "
            ],
            "text/html": [
              "\n",
              "  <div id=\"df-5e9d8885-697e-4179-a63e-eabed8d3e368\">\n",
              "    <div class=\"colab-df-container\">\n",
              "      <div>\n",
              "<style scoped>\n",
              "    .dataframe tbody tr th:only-of-type {\n",
              "        vertical-align: middle;\n",
              "    }\n",
              "\n",
              "    .dataframe tbody tr th {\n",
              "        vertical-align: top;\n",
              "    }\n",
              "\n",
              "    .dataframe thead th {\n",
              "        text-align: right;\n",
              "    }\n",
              "</style>\n",
              "<table border=\"1\" class=\"dataframe\">\n",
              "  <thead>\n",
              "    <tr style=\"text-align: right;\">\n",
              "      <th></th>\n",
              "      <th>Med_Name</th>\n",
              "      <th>Price</th>\n",
              "      <th>Active salt</th>\n",
              "      <th>Pack size</th>\n",
              "      <th>Link</th>\n",
              "      <th>Product Description</th>\n",
              "      <th>Side effect</th>\n",
              "    </tr>\n",
              "  </thead>\n",
              "  <tbody>\n",
              "    <tr>\n",
              "      <th>0</th>\n",
              "      <td>Diclogesic 50mg/325mg Tablet</td>\n",
              "      <td>₹55.25</td>\n",
              "      <td>Diclofenac (50mg) + Paracetamol (325mg)</td>\n",
              "      <td>strip of 10 tablets</td>\n",
              "      <td>https://www.1mg.com/drugs/diclogesic-50mg-325m...</td>\n",
              "      <td>[Diclogesic 50mg/325mg Tablet is a pain-reliev...</td>\n",
              "      <td>Some of the common side effects of this medici...</td>\n",
              "    </tr>\n",
              "    <tr>\n",
              "      <th>1</th>\n",
              "      <td>Diclomol SP 10 Tablet</td>\n",
              "      <td>₹94.5</td>\n",
              "      <td>Diclofenac (50mg) + Serratiopeptidase (10mg)</td>\n",
              "      <td>strip of 10 tablets</td>\n",
              "      <td>https://www.1mg.com/drugs/diclomol-sp-10-table...</td>\n",
              "      <td>[Diclomol SP 10 Tablet is a combination of two...</td>\n",
              "      <td>The most common side effects of this medicine ...</td>\n",
              "    </tr>\n",
              "    <tr>\n",
              "      <th>2</th>\n",
              "      <td>Daparyl M 10/500 Tablet ER</td>\n",
              "      <td>₹125</td>\n",
              "      <td>Dapagliflozin (10mg) + Metformin (500mg)</td>\n",
              "      <td>strip of 10 tablet er</td>\n",
              "      <td>https://www.1mg.com/drugs/daparyl-m-10-500-tab...</td>\n",
              "      <td>[Daparyl M 10/500 Tablet ER is a combination o...</td>\n",
              "      <td>The most common side effects of this medicine ...</td>\n",
              "    </tr>\n",
              "    <tr>\n",
              "      <th>3</th>\n",
              "      <td>Depran-H Tablet</td>\n",
              "      <td>₹214.5</td>\n",
              "      <td>Clonazepam (0.25mg) + Escitalopram Oxalate (10mg)</td>\n",
              "      <td>strip of 15 tablets</td>\n",
              "      <td>https://www.1mg.com/drugs/depran-h-tablet-370668</td>\n",
              "      <td>[Depran-H Tablet is a prescription medicine us...</td>\n",
              "      <td>Some common side effects of this medicine incl...</td>\n",
              "    </tr>\n",
              "    <tr>\n",
              "      <th>4</th>\n",
              "      <td>Dipgenta Plus Cream</td>\n",
              "      <td>₹105</td>\n",
              "      <td>Clobetasol (0.05% w/w) + Neomycin (0.5% w/w)</td>\n",
              "      <td>tube of 20 gm Cream</td>\n",
              "      <td>https://www.1mg.com/drugs/dipgenta-plus-cream-...</td>\n",
              "      <td>[Dipgenta Plus Cream is used to treat various ...</td>\n",
              "      <td>These side effects are usually mild and self-...</td>\n",
              "    </tr>\n",
              "    <tr>\n",
              "      <th>5</th>\n",
              "      <td>Dibizide-M Tablet</td>\n",
              "      <td>₹14.5</td>\n",
              "      <td>Glipizide (5mg) + Metformin (500mg)</td>\n",
              "      <td>strip of 10 tablets</td>\n",
              "      <td>https://www.1mg.com/drugs/dibizide-m-tablet-14...</td>\n",
              "      <td>[Dibizide-M Tablet belongs to a category of me...</td>\n",
              "      <td>Other side effects that may be seen on taking...</td>\n",
              "    </tr>\n",
              "    <tr>\n",
              "      <th>6</th>\n",
              "      <td>Diclo Plus 50mg/500mg Tablet</td>\n",
              "      <td>₹25</td>\n",
              "      <td>Diclofenac (50mg) + Paracetamol (500mg)</td>\n",
              "      <td>strip of 10 tablets</td>\n",
              "      <td>https://www.1mg.com/drugs/diclo-plus-50mg-500m...</td>\n",
              "      <td>[Diclo Plus 50mg/500mg Tablet is a pain-reliev...</td>\n",
              "      <td>Some of the common side effects of this medici...</td>\n",
              "    </tr>\n",
              "    <tr>\n",
              "      <th>7</th>\n",
              "      <td>Doxinate 24 Tablet ER</td>\n",
              "      <td>₹259.5</td>\n",
              "      <td>Doxylamine (20mg) + Vitamin B6 (Pyridoxine) (2...</td>\n",
              "      <td>strip of 15 tablet er</td>\n",
              "      <td>https://www.1mg.com/drugs/doxinate-24-tablet-e...</td>\n",
              "      <td>[Doxinate 24 Tablet ER is a combination medici...</td>\n",
              "      <td>Some common side effects of this medicine are ...</td>\n",
              "    </tr>\n",
              "    <tr>\n",
              "      <th>8</th>\n",
              "      <td>Dulot 20 Capsule DR</td>\n",
              "      <td>₹133.3</td>\n",
              "      <td>Duloxetine (20mg)</td>\n",
              "      <td>strip of 10 Capsule DR</td>\n",
              "      <td>https://www.1mg.com/drugs/dulot-20-capsule-dr-...</td>\n",
              "      <td>[Dulot 20 Capsule DR is used in the treatment ...</td>\n",
              "      <td>Some common side effects of this medicine incl...</td>\n",
              "    </tr>\n",
              "    <tr>\n",
              "      <th>9</th>\n",
              "      <td>Dopamine 200mg Injection</td>\n",
              "      <td>₹22</td>\n",
              "      <td>Dopamine (200mg)</td>\n",
              "      <td>vial of 5 ml Injection</td>\n",
              "      <td>https://www.1mg.com/drugs/dopamine-200mg-injec...</td>\n",
              "      <td>[Dopamine 200mg Injection is a medicine used f...</td>\n",
              "      <td>Some common side effects of this medicine incl...</td>\n",
              "    </tr>\n",
              "    <tr>\n",
              "      <th>10</th>\n",
              "      <td>Dexcin  Eye/Ear Drops</td>\n",
              "      <td>₹18</td>\n",
              "      <td>Neomycin (0.5% w/v) + Dexamethasone (0.1% w/v)</td>\n",
              "      <td>packet of 5 ml Eye/Ear Drops</td>\n",
              "      <td>https://www.1mg.com/drugs/dexcin-eye-ear-drops...</td>\n",
              "      <td>[Dexcin  Eye/Ear Drops is a medicine used to t...</td>\n",
              "      <td>Some common side effects of this medicine incl...</td>\n",
              "    </tr>\n",
              "    <tr>\n",
              "      <th>11</th>\n",
              "      <td>D-Veniz 100 Tablet ER</td>\n",
              "      <td>₹321</td>\n",
              "      <td>Desvenlafaxine (100mg)</td>\n",
              "      <td>strip of 10 tablet er</td>\n",
              "      <td>https://www.1mg.com/drugs/d-veniz-100-tablet-e...</td>\n",
              "      <td>[D-Veniz 100 Tablet ER is a prescription medic...</td>\n",
              "      <td>Some common side effects of this medicine incl...</td>\n",
              "    </tr>\n",
              "    <tr>\n",
              "      <th>12</th>\n",
              "      <td>Doxinate -G Tablet</td>\n",
              "      <td>₹111</td>\n",
              "      <td>Doxylamine (20mg) + Vitamin B6 (Pyridoxine) (2...</td>\n",
              "      <td>strip of 10 tablets</td>\n",
              "      <td>https://www.1mg.com/drugs/doxinate-g-tablet-32...</td>\n",
              "      <td>[Doxinate -G Tablet is a combination medicine ...</td>\n",
              "      <td>Some common side effects of this medicine are ...</td>\n",
              "    </tr>\n",
              "    <tr>\n",
              "      <th>13</th>\n",
              "      <td>Decadron Tablet</td>\n",
              "      <td>₹2.31</td>\n",
              "      <td>Dexamethasone (NA)</td>\n",
              "      <td>strip of 10 tablets</td>\n",
              "      <td>https://www.1mg.com/drugs/decadron-tablet-154198</td>\n",
              "      <td>[Decadron Tablet belongs to a group of medicin...</td>\n",
              "      <td>The most common side effects of this medicine ...</td>\n",
              "    </tr>\n",
              "    <tr>\n",
              "      <th>14</th>\n",
              "      <td>Dilo-DX Syrup</td>\n",
              "      <td>₹91.5</td>\n",
              "      <td>Chlorpheniramine Maleate (4mg/5ml) + Dextromet...</td>\n",
              "      <td>bottle of 100 ml Syrup</td>\n",
              "      <td>https://www.1mg.com/drugs/dilo-dx-syrup-167523</td>\n",
              "      <td>[Dilo-DX Syrup is a combination medicine used ...</td>\n",
              "      <td>The most common side effects are nausea, upset...</td>\n",
              "    </tr>\n",
              "    <tr>\n",
              "      <th>15</th>\n",
              "      <td>Daflon 1000mg Tablet</td>\n",
              "      <td>₹435.6</td>\n",
              "      <td>Diosmin (900mg) + Hesperidin (100mg)</td>\n",
              "      <td>strip of 18 tablets</td>\n",
              "      <td>https://www.1mg.com/drugs/daflon-1000mg-tablet...</td>\n",
              "      <td>[Daflon 1000mg Tablet is a combinational medic...</td>\n",
              "      <td>The most common side effects are itching, stom...</td>\n",
              "    </tr>\n",
              "    <tr>\n",
              "      <th>16</th>\n",
              "      <td>Dosetil Cream</td>\n",
              "      <td>₹153</td>\n",
              "      <td>Desonide (0.05% w/w)</td>\n",
              "      <td>tube of 10 gm Cream</td>\n",
              "      <td>https://www.1mg.com/drugs/dosetil-cream-58903</td>\n",
              "      <td>[Dosetil Cream is a topical steroid use for th...</td>\n",
              "      <td>The most common side effects are itching, stom...</td>\n",
              "    </tr>\n",
              "    <tr>\n",
              "      <th>17</th>\n",
              "      <td>Dilzem CD 120 Capsule ER</td>\n",
              "      <td>₹250.1</td>\n",
              "      <td>Diltiazem (120mg)</td>\n",
              "      <td>strip of 10 capsule er</td>\n",
              "      <td>https://www.1mg.com/drugs/dilzem-cd-120-capsul...</td>\n",
              "      <td>[Dilzem CD 120 Capsule ER is used to treat ang...</td>\n",
              "      <td>Common side effects seen with this medicine in...</td>\n",
              "    </tr>\n",
              "    <tr>\n",
              "      <th>18</th>\n",
              "      <td>DMR 20mg Tablet</td>\n",
              "      <td>₹49.7</td>\n",
              "      <td>Dextromethorphan Hydrobromide (20mg)</td>\n",
              "      <td>strip of 10 tablets</td>\n",
              "      <td>https://www.1mg.com/drugs/dmr-20mg-tablet-261061</td>\n",
              "      <td>[DMR 20mg Tablet is an antitussive medicine. I...</td>\n",
              "      <td>The most common side effects of this medicine ...</td>\n",
              "    </tr>\n",
              "    <tr>\n",
              "      <th>19</th>\n",
              "      <td>Depo-Medrol 80mg Injection</td>\n",
              "      <td>₹93.24</td>\n",
              "      <td>Methylprednisolone (80mg)</td>\n",
              "      <td>vial of 2 ml Injection</td>\n",
              "      <td>https://www.1mg.com/drugs/depo-medrol-80mg-inj...</td>\n",
              "      <td>[Depo-Medrol 80mg Injection is a type of medic...</td>\n",
              "      <td>Taking a higher dose will not improve your co...</td>\n",
              "    </tr>\n",
              "    <tr>\n",
              "      <th>20</th>\n",
              "      <td>Dapabite 10mg Tablet</td>\n",
              "      <td>₹163.9</td>\n",
              "      <td>Dapagliflozin (10mg)</td>\n",
              "      <td>strip of 10 tablets</td>\n",
              "      <td>https://www.1mg.com/drugs/dapabite-10mg-tablet...</td>\n",
              "      <td>[Dapabite 10mg Tablet is used alone or in comb...</td>\n",
              "      <td>The most common side effects of Dapabite 10mg ...</td>\n",
              "    </tr>\n",
              "    <tr>\n",
              "      <th>21</th>\n",
              "      <td>Danclear  Shampoo</td>\n",
              "      <td>₹361.75</td>\n",
              "      <td>Ketoconazole (2% w/v) + Zinc pyrithione (1% w/v)</td>\n",
              "      <td>bottle of 90 ml Shampoo</td>\n",
              "      <td>https://www.1mg.com/drugs/danclear-shampoo-75381</td>\n",
              "      <td>[Danclear  Shampoo is a combination of two ant...</td>\n",
              "      <td>Do not use more than you need it will not cle...</td>\n",
              "    </tr>\n",
              "    <tr>\n",
              "      <th>22</th>\n",
              "      <td>Duet 625 Tablet</td>\n",
              "      <td>₹215.63</td>\n",
              "      <td>Amoxycillin  (500mg) +  Clavulanic Acid (125mg)</td>\n",
              "      <td>strip of 10 tablets</td>\n",
              "      <td>https://www.1mg.com/drugs/duet-625-tablet-156934</td>\n",
              "      <td>[Duet 625 Tablet is an antibiotic that helps y...</td>\n",
              "      <td>The most common side effects of Duet 625 Table...</td>\n",
              "    </tr>\n",
              "    <tr>\n",
              "      <th>23</th>\n",
              "      <td>Doxybond-LB Capsule</td>\n",
              "      <td>₹107</td>\n",
              "      <td>Doxycycline (100mg) + Lactobacillus (5Billion ...</td>\n",
              "      <td>strip of 10 capsules</td>\n",
              "      <td>https://www.1mg.com/drugs/doxybond-lb-capsule-...</td>\n",
              "      <td>[Doxybond-LB Capsule is a combination medicine...</td>\n",
              "      <td>Some common side effects of this medicine are ...</td>\n",
              "    </tr>\n",
              "    <tr>\n",
              "      <th>24</th>\n",
              "      <td>Duvadilan IM/IV 5mg Injection</td>\n",
              "      <td>₹29.94</td>\n",
              "      <td>Isoxsuprine (5mg/ml)</td>\n",
              "      <td>vial of 1 Injection</td>\n",
              "      <td>https://www.1mg.com/drugs/duvadilan-im-iv-5mg-...</td>\n",
              "      <td>[Duvadilan IM/IV 5mg Injection is a vasodilato...</td>\n",
              "      <td>Some common side effects of this medicine are ...</td>\n",
              "    </tr>\n",
              "    <tr>\n",
              "      <th>25</th>\n",
              "      <td>Dulotin 10 Tablet</td>\n",
              "      <td>₹72</td>\n",
              "      <td>Duloxetine (10mg)</td>\n",
              "      <td>strip of 10 tablets</td>\n",
              "      <td>https://www.1mg.com/drugs/dulotin-10-tablet-13...</td>\n",
              "      <td>[Dulotin 10 Tablet is used in the treatment of...</td>\n",
              "      <td>Some common side effects of this medicine incl...</td>\n",
              "    </tr>\n",
              "    <tr>\n",
              "      <th>26</th>\n",
              "      <td>Drotikind 80mg Tablet</td>\n",
              "      <td>₹79.69</td>\n",
              "      <td>Drotaverine (80mg)</td>\n",
              "      <td>strip of 10 tablets</td>\n",
              "      <td>https://www.1mg.com/drugs/drotikind-80mg-table...</td>\n",
              "      <td>[Drotikind 80mg Tablet is an antispasmodic med...</td>\n",
              "      <td>The most common side effects of this medicine ...</td>\n",
              "    </tr>\n",
              "    <tr>\n",
              "      <th>27</th>\n",
              "      <td>Dianorm-M Tablet</td>\n",
              "      <td>₹207</td>\n",
              "      <td>Gliclazide (80mg) + Metformin (500mg)</td>\n",
              "      <td>strip of 15 tablets</td>\n",
              "      <td>https://www.1mg.com/drugs/dianorm-m-tablet-75616</td>\n",
              "      <td>[Dianorm-M Tablet belongs to a category of med...</td>\n",
              "      <td>Other side effects that may be seen on taking...</td>\n",
              "    </tr>\n",
              "    <tr>\n",
              "      <th>28</th>\n",
              "      <td>Darbitop 40mcg Injection</td>\n",
              "      <td>₹3050</td>\n",
              "      <td>Darbepoetin alfa (40mcg)</td>\n",
              "      <td>prefilled syringe of 1 Injection</td>\n",
              "      <td>https://www.1mg.com/drugs/darbitop-40mcg-injec...</td>\n",
              "      <td>[Darbitop 40mcg Injection is used in the treat...</td>\n",
              "      <td>Darbitop 40mcg Injection is a medicine that ne...</td>\n",
              "    </tr>\n",
              "    <tr>\n",
              "      <th>29</th>\n",
              "      <td>Diecold Plus Tablet</td>\n",
              "      <td>₹60</td>\n",
              "      <td>Aceclofenac (100mg) + Paracetamol (325mg) + Ce...</td>\n",
              "      <td>strip of 10 tablets</td>\n",
              "      <td>https://www.1mg.com/drugs/diecold-plus-tablet-...</td>\n",
              "      <td>[Diecold Plus Tablet is a medicine used in the...</td>\n",
              "      <td>Let your doctor know if any of these side eff...</td>\n",
              "    </tr>\n",
              "  </tbody>\n",
              "</table>\n",
              "</div>\n",
              "      <button class=\"colab-df-convert\" onclick=\"convertToInteractive('df-5e9d8885-697e-4179-a63e-eabed8d3e368')\"\n",
              "              title=\"Convert this dataframe to an interactive table.\"\n",
              "              style=\"display:none;\">\n",
              "        \n",
              "  <svg xmlns=\"http://www.w3.org/2000/svg\" height=\"24px\"viewBox=\"0 0 24 24\"\n",
              "       width=\"24px\">\n",
              "    <path d=\"M0 0h24v24H0V0z\" fill=\"none\"/>\n",
              "    <path d=\"M18.56 5.44l.94 2.06.94-2.06 2.06-.94-2.06-.94-.94-2.06-.94 2.06-2.06.94zm-11 1L8.5 8.5l.94-2.06 2.06-.94-2.06-.94L8.5 2.5l-.94 2.06-2.06.94zm10 10l.94 2.06.94-2.06 2.06-.94-2.06-.94-.94-2.06-.94 2.06-2.06.94z\"/><path d=\"M17.41 7.96l-1.37-1.37c-.4-.4-.92-.59-1.43-.59-.52 0-1.04.2-1.43.59L10.3 9.45l-7.72 7.72c-.78.78-.78 2.05 0 2.83L4 21.41c.39.39.9.59 1.41.59.51 0 1.02-.2 1.41-.59l7.78-7.78 2.81-2.81c.8-.78.8-2.07 0-2.86zM5.41 20L4 18.59l7.72-7.72 1.47 1.35L5.41 20z\"/>\n",
              "  </svg>\n",
              "      </button>\n",
              "      \n",
              "  <style>\n",
              "    .colab-df-container {\n",
              "      display:flex;\n",
              "      flex-wrap:wrap;\n",
              "      gap: 12px;\n",
              "    }\n",
              "\n",
              "    .colab-df-convert {\n",
              "      background-color: #E8F0FE;\n",
              "      border: none;\n",
              "      border-radius: 50%;\n",
              "      cursor: pointer;\n",
              "      display: none;\n",
              "      fill: #1967D2;\n",
              "      height: 32px;\n",
              "      padding: 0 0 0 0;\n",
              "      width: 32px;\n",
              "    }\n",
              "\n",
              "    .colab-df-convert:hover {\n",
              "      background-color: #E2EBFA;\n",
              "      box-shadow: 0px 1px 2px rgba(60, 64, 67, 0.3), 0px 1px 3px 1px rgba(60, 64, 67, 0.15);\n",
              "      fill: #174EA6;\n",
              "    }\n",
              "\n",
              "    [theme=dark] .colab-df-convert {\n",
              "      background-color: #3B4455;\n",
              "      fill: #D2E3FC;\n",
              "    }\n",
              "\n",
              "    [theme=dark] .colab-df-convert:hover {\n",
              "      background-color: #434B5C;\n",
              "      box-shadow: 0px 1px 3px 1px rgba(0, 0, 0, 0.15);\n",
              "      filter: drop-shadow(0px 1px 2px rgba(0, 0, 0, 0.3));\n",
              "      fill: #FFFFFF;\n",
              "    }\n",
              "  </style>\n",
              "\n",
              "      <script>\n",
              "        const buttonEl =\n",
              "          document.querySelector('#df-5e9d8885-697e-4179-a63e-eabed8d3e368 button.colab-df-convert');\n",
              "        buttonEl.style.display =\n",
              "          google.colab.kernel.accessAllowed ? 'block' : 'none';\n",
              "\n",
              "        async function convertToInteractive(key) {\n",
              "          const element = document.querySelector('#df-5e9d8885-697e-4179-a63e-eabed8d3e368');\n",
              "          const dataTable =\n",
              "            await google.colab.kernel.invokeFunction('convertToInteractive',\n",
              "                                                     [key], {});\n",
              "          if (!dataTable) return;\n",
              "\n",
              "          const docLinkHtml = 'Like what you see? Visit the ' +\n",
              "            '<a target=\"_blank\" href=https://colab.research.google.com/notebooks/data_table.ipynb>data table notebook</a>'\n",
              "            + ' to learn more about interactive tables.';\n",
              "          element.innerHTML = '';\n",
              "          dataTable['output_type'] = 'display_data';\n",
              "          await google.colab.output.renderOutput(dataTable, element);\n",
              "          const docLink = document.createElement('div');\n",
              "          docLink.innerHTML = docLinkHtml;\n",
              "          element.appendChild(docLink);\n",
              "        }\n",
              "      </script>\n",
              "    </div>\n",
              "  </div>\n",
              "  "
            ]
          },
          "metadata": {},
          "execution_count": 1047
        }
      ],
      "source": [
        "two = pd.concat([med_df, pinfo_df], axis=1)\n",
        "two"
      ]
    },
    {
      "cell_type": "code",
      "execution_count": 1048,
      "metadata": {
        "id": "8LjKuKUuqOul"
      },
      "outputs": [],
      "source": [
        "two.to_csv('d10.csv')"
      ]
    }
  ],
  "metadata": {
    "colab": {
      "provenance": [],
      "authorship_tag": "ABX9TyMqIndJs51W+uVkcMJ0af5K",
      "include_colab_link": true
    },
    "kernelspec": {
      "display_name": "Python 3",
      "name": "python3"
    },
    "language_info": {
      "name": "python"
    }
  },
  "nbformat": 4,
  "nbformat_minor": 0
}